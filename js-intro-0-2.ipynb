{
  "cells": [
    {
      "cell_type": "markdown",
      "metadata": {
        "editable": "false",
        "slideshow": {
          "slide_type": ""
        },
        "tags": []
      },
      "source": [
        "Javascript Einführung\n",
        "====================\n",
        "\n",
        "[Live-Notebook: http://35.194.59.82/](http://35.194.59.82/)  \n",
        "Draft Version 0.1  \n",
        "04/2024  \n",
        "Dr. Gottfried Luef  \n",
        "g.luef@gmx.at  "
      ]
    },
    {
      "cell_type": "markdown",
      "metadata": {
        "editable": "false"
      },
      "source": [
        "> Diese Einführung ist ein Jupyter-Notebook, in dem Text und ausführbares Javascript sich abwechseln.\n",
        "> Um den Code in den grauen nummerierten Boxen abzuändern, klicke man in die graue Box und ändere den Javascript-Code.\n",
        "> Um das Ergebnis der Änderung zu sehen, klicke man in der oberen Werkzeugleiste auf das Run-Symbol: <span style=\"font-size:25px;\"> &#129170; </span>\n",
        "> Das Ergebnis der Javascript-Box steht immer gleich unterhalb von der Box als normaler Text - die Javascript-Beispiele geben alle Ergebnisse als Text aus."
      ]
    },
    {
      "cell_type": "markdown",
      "metadata": {
        "editable": "false",
        "slideshow": {
          "slide_type": ""
        },
        "tags": []
      },
      "source": [
        "# Die lexikalische Struktur eines Javascript-Programmes"
      ]
    },
    {
      "cell_type": "markdown",
      "metadata": {
        "editable": "false"
      },
      "source": [
        "Das folgende kleine Beispiel zeigt die wesentlichen lexikalischen Elemente eines Javascript-Programmes:"
      ]
    },
    {
      "cell_type": "code",
      "execution_count": 331,
      "metadata": {},
      "outputs": [
        {
          "data": {
            "application/javascript": [
              "let myIdentifier1=\"Ich bin ein String-Literal\"; \n",
              "let myIdentifier2=\"Ich bin ein Euro-Literal: \\u20AC\";\n",
              "element.append(myIdentifier1, \" !! \", myIdentifier2);\n"
            ],
            "text/plain": [
              "<IPython.core.display.Javascript object>"
            ]
          },
          "metadata": {},
          "output_type": "display_data"
        }
      ],
      "source": [
        "%%js\n",
        "let myIdentifier1=\"Ich bin ein String-Literal\"; \n",
        "let myIdentifier2=\"Ich bin ein Euro-Literal: \\u20AC\";\n",
        "element.append(myIdentifier1, \" !! \", myIdentifier2);"
      ]
    },
    {
      "cell_type": "markdown",
      "metadata": {
        "editable": "false"
      },
      "source": [
        "In Javascript-Programmen finden sich *Literale* und *Identifier* bzw. Variablennamen. Literale sind angeschriebene Zahlen oder Zeichenketten, wie z.B. `11` oder `\"Hello World\"`. \n",
        "Identifier sind Namen, die auf Werte verweisen (meist: Variable), sie dürfen nicht mit einer Ziffer beginnen und können ansonsten aus beliebigen Ziffern, Buchstaben, dem Dollar und dem Underscore-Zeichen bestehen. \n",
        "Gültige Identifier sind z.B. `i`, `$count` oder `_myVariable` \n",
        "Außerdem kann man in Javascript-Programmen auch jede Menge *reservierte Wörter* antreffen, die nicht als Identifier verwendet werden dürfen, weil sie etwas Besonderes bedeuten. Solche sind etwa `let`, `if`, `while`, `for`, usw. "
      ]
    },
    {
      "cell_type": "markdown",
      "metadata": {
        "editable": "false"
      },
      "source": [
        "Die Javascript-Quellprogrammdateien sind Unicode. Man könnte theoretisch auch in Variablennamen Unicode-\"Buchstaben\" schreiben - das ist jedoch unüblich, man beschränkt sich bei der Benennung von Variablen in der Praxis auf ASCII-Zeichen. In Strings werden Unicode-Zeichen als Escape-Sequenzen geschrieben: `\\u20AC` oder `\\u{2CED9}` sind gültige Schreibweisen, wobei im ersten Fall bis zu 4 und im zweiten Fall bis zu 6 Hex-Zeichen angegeben werden können."
      ]
    },
    {
      "cell_type": "markdown",
      "metadata": {
        "editable": "false"
      },
      "source": [
        "Ein eigenes Kapitel ist der Strichpunkt. In Javascript ist der Strichpunkt das Trennzeichen zwischen Befehlen, er zeigt an, wo das akutelle Statement aufhört und das nächste Statement beginnt. \n",
        "Der Strichpunkt muss jedoch nicht zwingend gesetzt werden - Javascript nimmt nach gewissen Regeln von selbst einen Strichpunkt an - das jedoch führt in manchen (seltenen) Konstellationen zu fehlerhaftem Code. \n",
        "Es gilt jedenfalls als sicherer, in Javascript die Statments immer durch Strichpunkt zu trennen."
      ]
    },
    {
      "cell_type": "markdown",
      "metadata": {
        "editable": "false"
      },
      "source": [
        "# Datentypen"
      ]
    },
    {
      "cell_type": "markdown",
      "metadata": {
        "editable": "false"
      },
      "source": [
        "Ein Javascript-Programm arbeitet mit Datenwerten, z.B. `\"Wien\"` oder `4711`. Das erste Beispiel ist eine Zeichenkette, das zweite Beispiel eine Zahl. Außer `String` und `Number` kennt Javascript noch den Typ `Boolean`. Weiters zu erwähnen sind der speziellen Typ `Symbol` und die speziellen Werte `undefined` und `null`. "
      ]
    },
    {
      "cell_type": "markdown",
      "metadata": {
        "editable": "false"
      },
      "source": [
        "## Zahlen"
      ]
    },
    {
      "cell_type": "markdown",
      "metadata": {
        "editable": "false"
      },
      "source": [
        "Zahlenliterale für ganze Zahlen werden in Javascript als `4711` geschrieben. Das ist die übliche Schreibweise. Man kann die ganzen Zahlen aber auch als Hexadezimalzahlen, binäre Zahlen oder als Oktalzahl anschreiben, wie in den folgenden Beispielen.\n",
        "Um die Lesbarkeit zu erhöhen, kann jedes Zahlenliteral mit `_` als Tausender-Trennzeichen versehen sein."
      ]
    },
    {
      "cell_type": "code",
      "execution_count": 332,
      "metadata": {},
      "outputs": [
        {
          "data": {
            "application/javascript": [
              "element.append(19);\n",
              "element.append(\" \", 0x13);    // 0x: Hexadezimal\n",
              "element.append(\" \", 0b10011);  // 0b: Binär\n",
              "element.append(\" \", 0o23);    // 0o: Oktal\n",
              "element.append(\" \", 1_720_000);\n",
              "// Übung: probieren Sie mit der Zahl 32 in allen Varianten\n"
            ],
            "text/plain": [
              "<IPython.core.display.Javascript object>"
            ]
          },
          "metadata": {},
          "output_type": "display_data"
        }
      ],
      "source": [
        "%%js\n",
        "element.append(19);\n",
        "element.append(\" \", 0x13);    // 0x: Hexadezimal\n",
        "element.append(\" \", 0b10011);  // 0b: Binär\n",
        "element.append(\" \", 0o23);    // 0o: Oktal\n",
        "element.append(\" \", 1_720_000);\n",
        "// Übung: probieren Sie mit der Zahl 32 in allen Varianten"
      ]
    },
    {
      "cell_type": "markdown",
      "metadata": {
        "editable": "false",
        "slideshow": {
          "slide_type": ""
        },
        "tags": []
      },
      "source": [
        "Kommazahlen werden mit dem Kommapunkt geschrieben: `17.32`. Eine alternative ist die wissenschaftliche Schreiweise `34.6e13` für große Zahlen. \n",
        "Das bedeutet soviel wie *die Zahl vor dem e mal 10 hoch der Zahl nach dem e*. Man beachte dass die Zahl nach dem e (der Exponent) auch negativ sein kann wie in `17.78e-12` - dann ist die Bedeutung *die Zahl vor dem e dividiert durch 10 hoch der (negativen) Zahl nach dem e*. "
      ]
    },
    {
      "cell_type": "code",
      "execution_count": 333,
      "metadata": {
        "editable": true,
        "slideshow": {
          "slide_type": ""
        },
        "tags": []
      },
      "outputs": [
        {
          "data": {
            "application/javascript": [
              "element.append(17.2e5);\n",
              "// Übung: probieren sie 17.2e-5\n"
            ],
            "text/plain": [
              "<IPython.core.display.Javascript object>"
            ]
          },
          "metadata": {},
          "output_type": "display_data"
        }
      ],
      "source": [
        "%%js\n",
        "element.append(17.2e5);\n",
        "// Übung: probieren sie 17.2e-5"
      ]
    },
    {
      "cell_type": "markdown",
      "metadata": {
        "editable": "false"
      },
      "source": [
        "Arithmetische Operationen für Zahlen sind die üblichen Verdächtigen:  `+` für Addition, `-` für Subtraktion, `*` für Multiplikation, `/` für Division, `%` für den die Ermittlung des Divisionsrestes (Modulus) und `**` für die Ermittlung des Exponenten. "
      ]
    },
    {
      "cell_type": "code",
      "execution_count": 334,
      "metadata": {},
      "outputs": [
        {
          "data": {
            "application/javascript": [
              "element.append(127%100);\n",
              "element.append(\" \", 3**3);\n",
              "//Übung: probieren sie auch +,-,*\n"
            ],
            "text/plain": [
              "<IPython.core.display.Javascript object>"
            ]
          },
          "metadata": {},
          "output_type": "display_data"
        }
      ],
      "source": [
        "%%js\n",
        "element.append(127%100);\n",
        "element.append(\" \", 3**3);\n",
        "//Übung: probieren sie auch +,-,*"
      ]
    },
    {
      "cell_type": "markdown",
      "metadata": {
        "editable": "false"
      },
      "source": [
        "Weitergehende Funktionen mit Zahlen werden durch das Javascript `Math`-Objekt angeboten. Einige nützliche Funktionen sind im folgenden Code-Snippet angedeutet:"
      ]
    },
    {
      "cell_type": "code",
      "execution_count": 335,
      "metadata": {
        "editable": true,
        "slideshow": {
          "slide_type": ""
        },
        "tags": []
      },
      "outputs": [
        {
          "data": {
            "application/javascript": [
              "element.append(Math.round(17.3));       // kaufmännische Rundung: ab 5 wird aufgerundet\n",
              "element.append(\", \", Math.ceil(17.3));  // auf Ganzzahl aufgerundet\n",
              "element.append(\", \", Math.random());    // zufällige Gleitkommazahl zwischen 0 und 1\n",
              "//Eine Zahl auf zwei Nachkommastellen genau kaufmännisch runden\n",
              "element.append(\", \", Math.round(17.336*100)/100);\n"
            ],
            "text/plain": [
              "<IPython.core.display.Javascript object>"
            ]
          },
          "metadata": {},
          "output_type": "display_data"
        }
      ],
      "source": [
        "%%js\n",
        "element.append(Math.round(17.3));       // kaufmännische Rundung: ab 5 wird aufgerundet\n",
        "element.append(\", \", Math.ceil(17.3));  // auf Ganzzahl aufgerundet\n",
        "element.append(\", \", Math.random());    // zufällige Gleitkommazahl zwischen 0 und 1\n",
        "//Eine Zahl auf zwei Nachkommastellen genau kaufmännisch runden\n",
        "element.append(\", \", Math.round(17.336*100)/100);"
      ]
    },
    {
      "cell_type": "markdown",
      "metadata": {
        "editable": "false",
        "slideshow": {
          "slide_type": ""
        },
        "tags": []
      },
      "source": [
        "Bei Kommazahlen muss man im Hinterkopf behalten, dass die interne Darstellung immer nur eine Annäherung der Zahl ist. \n",
        "Intern werden diese Zahlen nämlich als *Float* abgebildet, was eine bestimmte binäre Speicherlogik bedeutet. \n",
        "Daraus ergibt sich, dass keine noch so einfache Kommazahl, wie etwa ein Euro-Cent-Betrag, wirklich präzise im Speicher steht. Bei praktischen Operationen und Anzeigen wird man überhaupt keinen Unterschied merken - nur bei Vergleichen (`===`) wirkt es sich aus. Eine Euro-Cent-Zahl mit einer anderen Euro-Cent-Zahl auf Gleichheit zu überprüfen, kann ins Auge gehen. Die Merkregel ist, dass keine Vergleiche von Kommazahlen zuverlässig sind - will man also Euro-Cent-Beträge vergleichen, dann vorher alles in Cent umwandeln die die Ganzzahlen vergleichen - diese Vergleiche sind absolut zuverlässig."
      ]
    },
    {
      "cell_type": "code",
      "execution_count": 336,
      "metadata": {},
      "outputs": [
        {
          "data": {
            "application/javascript": [
              "let a=0.3, b=0.2, c=0.1;\n",
              "element.append(a-b === c);                // darauf kann man sich nicht verlassen \n",
              "element.append(\", \", a*10-b*10 === c*10)  // vorher auf ganze Zahlen skalieren funktioniert\n"
            ],
            "text/plain": [
              "<IPython.core.display.Javascript object>"
            ]
          },
          "metadata": {},
          "output_type": "display_data"
        }
      ],
      "source": [
        "%%js\n",
        "let a=0.3, b=0.2, c=0.1;\n",
        "element.append(a-b === c);                // darauf kann man sich nicht verlassen \n",
        "element.append(\", \", a*10-b*10 === c*10)  // vorher auf ganze Zahlen skalieren funktioniert"
      ]
    },
    {
      "cell_type": "markdown",
      "metadata": {
        "editable": "false"
      },
      "source": [
        "Sowohl Ganzzahlen als auch Kommazahlen können nur bis zu einer bestimmten Größe genau gespeichert werden, alles was größer ist führt zu einem Überlauf (Overflow), sodass Werte abgeschnitten werden. \n",
        "Der größte speicherbare ganzzahlige Wert ist in der Variablen `Number.MAX_VALUE` gespeichert. \n",
        "Wenn etwa durch eine Multiplikation ein Überlauf eintritt, wird kein Laufzeitfehler erzeugt, sondern das Ergebnis ist ein spezielle Zahl, nämlich `Infinity`. \n",
        "Alles mögliche, das man mit `Infinity` macht, führt wieder zum Ergebnis `Infinity` - man kann also nichts damit anfangen. \n",
        "Analog zum Zahlenüberlauf gibt es auch einen Zahlenunterlauf (Underflow), nämlich dann, wenn eine Kommazahl so klein ist, dass sie von 0 nicht mehr unterscheidbar ist. \n",
        "Der kleinste mögliche Wert, der größer als 0 ist, ist `Number.MIN_VALUE`, und ein Unterschreiten führt schlicht zum Ergebnis `0`.  "
      ]
    },
    {
      "cell_type": "code",
      "execution_count": 337,
      "metadata": {},
      "outputs": [
        {
          "data": {
            "application/javascript": [
              "element.append(Number.MAX_VALUE);\n",
              "element.append(\" \", Number.MAX_VALUE*10);\n",
              "//Übung: was ergibt Number.Infinity*10 ?\n"
            ],
            "text/plain": [
              "<IPython.core.display.Javascript object>"
            ]
          },
          "metadata": {},
          "output_type": "display_data"
        }
      ],
      "source": [
        "%%js\n",
        "element.append(Number.MAX_VALUE);\n",
        "element.append(\" \", Number.MAX_VALUE*10);\n",
        "//Übung: was ergibt Number.Infinity*10 ?"
      ]
    },
    {
      "cell_type": "markdown",
      "metadata": {
        "editable": "false"
      },
      "source": [
        "## Zeichenketten"
      ]
    },
    {
      "cell_type": "markdown",
      "metadata": {
        "editable": "false"
      },
      "source": [
        "In Javascript werden Zeichenketten (Strings) durch 16-Bit-Zeichen abgebildet - jedes Zeichen eines String ist ein 16-Bit-Speicherplatz, \n",
        "der ein Unicode-Zeichen darstellt. Damit sind alle gebräuchlichen Unicode-Zeichen erfasst. Es gibt jedoch auch größere gültige \n",
        "Unicode-Zeichen, und für solche werden in Javascript zwei 16-Bit-Zeichen in der Kette verwendet. Das bedeutet: es kann in seltenen\n",
        "Fällen dazu kommen, dass die Länge eines String größer der Anzahl der dargestellten Zeichen ist. \n",
        "Das ist zwar irritierend, aber wir müssen damit leben und diesen Umstand besonders bei der Suche nach Fehlern stets im Hinterkopf behalten."
      ]
    },
    {
      "cell_type": "code",
      "execution_count": 338,
      "metadata": {
        "editable": true,
        "slideshow": {
          "slide_type": ""
        },
        "tags": []
      },
      "outputs": [
        {
          "data": {
            "application/javascript": [
              "element.append(\"Herz\\ud83d\\udc99\"); // dargestellt werden 5 Zeichen\n",
              "element.append(\" \", \"Herz\\ud83d\\udc99\".length) // der String ist 6 Zeichen lang\n"
            ],
            "text/plain": [
              "<IPython.core.display.Javascript object>"
            ]
          },
          "metadata": {},
          "output_type": "display_data"
        }
      ],
      "source": [
        "%%js\n",
        "element.append(\"Herz\\ud83d\\udc99\"); // dargestellt werden 5 Zeichen\n",
        "element.append(\" \", \"Herz\\ud83d\\udc99\".length) // der String ist 6 Zeichen lang"
      ]
    },
    {
      "cell_type": "markdown",
      "metadata": {
        "editable": "false"
      },
      "source": [
        "Ein String kann als Literal in den Sourcecode eingetippt werden. \n",
        "Die Schreibweise für ein String-Literal ist `\"abcde\"`, wobei  statt `\"` auch ``'`` oder `` ` `` (Backtick) stehen kann.\n",
        "Für längere Zeichenketten können mitten im String\n",
        "auch ohne Weiteres Zeilenumbrüche gemacht werden - Javascript betrachtet die Umbrüche nicht als Teil der Zeichenkette - dies jedoch\n",
        "nur, wenn der String mit Backtick `` ` `` geschrieben ist.\n",
        "Sonst muss jede Zeile der mehrzeiligen Zeichenkette mit dem `\\` - Zeichen beendet werden - dann wird Javascript das `\\` ignorieren und die Zeilen zusammenfügen."
      ]
    },
    {
      "cell_type": "code",
      "execution_count": 339,
      "metadata": {},
      "outputs": [
        {
          "data": {
            "application/javascript": [
              "let s=`Zu Dionis, dem Tyrannen, \n",
              "schlich Damon, den Dolch im Gewande`;\n",
              "element.append(s);\n",
              "// Übung: begrenzen Sie den mehrzeiligen String durch \" - was passiert?\n"
            ],
            "text/plain": [
              "<IPython.core.display.Javascript object>"
            ]
          },
          "metadata": {},
          "output_type": "display_data"
        }
      ],
      "source": [
        "%%js\n",
        "let s=`Zu Dionis, dem Tyrannen, \n",
        "schlich Damon, den Dolch im Gewande`;\n",
        "element.append(s);\n",
        "// Übung: begrenzen Sie den mehrzeiligen String durch \" - was passiert?"
      ]
    },
    {
      "cell_type": "markdown",
      "metadata": {
        "editable": "false"
      },
      "source": [
        "Zeichenketten-Literale mit Backtick `` ` `` haben noch eine andere interssante Eigenschaft: \n",
        "Man kann Variable darin einbetten - Javascript wird die Variablen dann durch den aktuellen Wert ersetzen.\n",
        "Die Schreibweise dafür ist `` `abdcde${x}` ``, wenn `x` eine Variable ist. \n",
        "Enthält `x` den Wert `\"f\"`, dann hat der String zur Laufzeit den Wert `` `abcdef` ``. \n",
        "Wegen dieses Features mit der Variablen-Ersetzung heißen die literalen Strings, die mit Backtick geschrieben sind, *Template-Literale*. \n"
      ]
    },
    {
      "cell_type": "markdown",
      "metadata": {
        "editable": "false"
      },
      "source": [
        "Inmitten von Zeichenketten kann man auch besondere Symbole einfügen, die als *Escape-Sequenzen* bekannt sind.\n",
        "Die typischsten Beispiele sind `\\n` und `\\t` für Zeilenumbruch und Tabulator. Häufige Escape-Sequenzen sind noch `\\'` und `\\\"` \n",
        "für einfaches und doppeltes Hochkomma, und natürlich wie schon beschrieben Unicode-Buchstaben in der Schreibweise `\\u20ac`oder  `\\u{20ac}`."
      ]
    },
    {
      "cell_type": "code",
      "execution_count": 340,
      "metadata": {},
      "outputs": [
        {
          "data": {
            "application/javascript": [
              "let x=2;\n",
              "element.append(`Zu Dionis, dem Tyrannen, schlich Damon, \\\"${x} Dolche\\\" im Gewande`);\n",
              "// Übung: was geschieht, wenn der String nicht mit ' sondern mit \" geschrieben wird?                \n"
            ],
            "text/plain": [
              "<IPython.core.display.Javascript object>"
            ]
          },
          "metadata": {},
          "output_type": "display_data"
        }
      ],
      "source": [
        "%%js\n",
        "let x=2;\n",
        "element.append(`Zu Dionis, dem Tyrannen, schlich Damon, \\\"${x} Dolche\\\" im Gewande`);\n",
        "// Übung: was geschieht, wenn der String nicht mit ' sondern mit \" geschrieben wird?                "
      ]
    },
    {
      "cell_type": "markdown",
      "metadata": {
        "editable": "false"
      },
      "source": [
        "Wenn zwei Zeichenketten mit dem Operator `===` verglichen werden, prüft Javascript die Gleichheit Zeichen für Zeichen.\n",
        "Auch die Vergleichsoperatoren `<` und `>` funktionieren zeichenweise nach dem numerischen Unicode-Wert.\n",
        "Für gängige Zeichen ist damit alles korrekt - für unübliche Zeiche, etwa in nichtromanischer Schrift, wird man mit `<` und `>` nicht mehr auskommen.\n",
        "\n",
        "Strings sind in Javascript mit einer Fülle von Funktionen ausgestattet.\n",
        "Die interessantesten sind `substring(start,length)`, `indexOf(string)`, `startsWith(string)`, `includes(string)`. "
      ]
    },
    {
      "cell_type": "code",
      "execution_count": 341,
      "metadata": {},
      "outputs": [
        {
          "data": {
            "application/javascript": [
              "let a=\"Anton\", b=\"Berta\";\n",
              "element.append(a<b, \" \", b<a);\n",
              "//Übung: ist Zeichenkette '11' kleiner oder gößer als '100' ?\n",
              "\n",
              "let c= \"Dr. Anton Meier\";\n",
              "element.append(\" \", c.startsWith(a), \" \", c.includes(a)); \n"
            ],
            "text/plain": [
              "<IPython.core.display.Javascript object>"
            ]
          },
          "metadata": {},
          "output_type": "display_data"
        }
      ],
      "source": [
        "%%js\n",
        "let a=\"Anton\", b=\"Berta\";\n",
        "element.append(a<b, \" \", b<a);\n",
        "//Übung: ist Zeichenkette '11' kleiner oder gößer als '100' ?\n",
        "\n",
        "let c= \"Dr. Anton Meier\";\n",
        "element.append(\" \", c.startsWith(a), \" \", c.includes(a)); "
      ]
    },
    {
      "cell_type": "markdown",
      "metadata": {
        "editable": "false"
      },
      "source": [
        "Ein eigenes Thema bei Javascript Strings ist Pattern Matching, also die Suche nach regulären Ausdrücken. \n",
        "Javascript Strings unterstützen diese Suche, wie in dem folgenden Code-Snippet demonstriert ist. \n",
        "Die Kernmethode ist `match(/pattern/)`. Die *regular Expression* wird dabei zwischen zwei Schrägstrichen angeführt. \n",
        "Das Ergebnis ist ein String, die das Ergebnis der Pattern Matching-Suche enthält. "
      ]
    },
    {
      "cell_type": "code",
      "execution_count": 342,
      "metadata": {},
      "outputs": [
        {
          "data": {
            "application/javascript": [
              "let a= \"Was wolltest Du mit dem Dolche, sprich\";\n",
              "element.append(a.match(/Du.*sprich/));\n",
              "//Übung: wie kann mit mit `match` feststellen, ob ein String eine gültige positive Ganzzahl enthält?\n"
            ],
            "text/plain": [
              "<IPython.core.display.Javascript object>"
            ]
          },
          "metadata": {},
          "output_type": "display_data"
        }
      ],
      "source": [
        "%%js\n",
        "let a= \"Was wolltest Du mit dem Dolche, sprich\";\n",
        "element.append(a.match(/Du.*sprich/));\n",
        "//Übung: wie kann mit mit `match` feststellen, ob ein String eine gültige positive Ganzzahl enthält?"
      ]
    },
    {
      "cell_type": "markdown",
      "metadata": {
        "editable": "false"
      },
      "source": [
        "## Boolean"
      ]
    },
    {
      "cell_type": "markdown",
      "metadata": {
        "editable": "false"
      },
      "source": [
        "Boolean steht für wahr (`true`) oder falsch (`false`).\n",
        "Bei Vergleichen braucht man regelmäßig diese Werte. \n",
        "Ein Vergleich `a===b` oder `a<b` usw. liefert immer ein Boolean-Ergebnis. \n",
        "Boolean-Werte können mit `&&` oder `||` verknüpft werden:  `a && b` ist nur dann wahr, wenn sowohl `a` als auch `b` wahr sind. `a || b` ist genau dann wahr, wenn einer der beiden Werte wahr ist. Für den NOT-Operator `!` gilt: `!a` ist genau dann wahr, wenn `a` `false` ist."
      ]
    },
    {
      "cell_type": "markdown",
      "metadata": {
        "editable": "false"
      },
      "source": [
        "Interessant ist, dass alle Werte, ob Literale oder Variable, immer auch als Boolean behandelt werden können, weil immer eine implizite Konversion existiert. \n",
        "So ist zum Beispiel der Ausdruck `if(a)` gleichwertig mit `if(a !== null)` - und diese Zauberei funktioniert so: Javascript wandelt bei Bedarf nur folgende Werte in Boolean `false` um: `undefined`, `null`, `0`, `-0`,  `NaN`, `\"\"`. Alle anderen Werte und Objekte wandelt Javascript bei Bedarf in `true` um. "
      ]
    },
    {
      "cell_type": "code",
      "execution_count": 343,
      "metadata": {},
      "outputs": [
        {
          "data": {
            "application/javascript": [
              "var myProp=\"hi\";\n",
              "\n",
              "let a=null;\n",
              "if(!a) \n",
              "  element.append(\"a ist false\");\n",
              "else \n",
              "  element.append(\"a ist true\");\n",
              "\n",
              "let b=\"some string\";\n",
              "if(b.length > 2)\n",
              "  element.append(\", b>2:true\");\n"
            ],
            "text/plain": [
              "<IPython.core.display.Javascript object>"
            ]
          },
          "metadata": {},
          "output_type": "display_data"
        }
      ],
      "source": [
        "%%js\n",
        "var myProp=\"hi\";\n",
        "\n",
        "let a=null;\n",
        "if(!a) \n",
        "  element.append(\"a ist false\");\n",
        "else \n",
        "  element.append(\"a ist true\");\n",
        "\n",
        "let b=\"some string\";\n",
        "if(b.length > 2)\n",
        "  element.append(\", b>2:true\");"
      ]
    },
    {
      "cell_type": "markdown",
      "metadata": {
        "editable": "false"
      },
      "source": [
        "## Undefined und Null"
      ]
    },
    {
      "cell_type": "markdown",
      "metadata": {
        "editable": "false"
      },
      "source": [
        "Die beiden Sprachkonstanten `undefined` und `null` bedeuten immer das Nicht-Vorhandensein eines Wertes. \n",
        "Es gibt subtile Unterschiede - nicht initialisierte Variable, fehlender Array-Elemente und fehlende \n",
        "Properties von Objekten sowie die Ergebnisse von Funktionen, die nichts zurückgeben, sind `undefined`. \n",
        "`null` ist eher der Wert, den Anwendungsprogramme selbst setzen, wenn etwas nicht oder noch nicht bekannt ist.\n",
        "Ohnehin ist es gute Praxis, beide Konstante als äquivelent zu betrachten und immer mit dem `===` - Operator abzufragen.\n",
        "Mit `===` verglichen sind `null` und `undefined` völlig äquivalent."
      ]
    },
    {
      "cell_type": "code",
      "execution_count": 344,
      "metadata": {},
      "outputs": [
        {
          "data": {
            "application/javascript": [
              "let a;\n",
              "if(a == null)\n",
              "    element.append(\"a äquivalent zu null\");\n",
              "if (a === null)\n",
              "    element.append(\" a ident mit null\");\n",
              "if (a === undefined)\n",
              "    element.append(\" a ident mit undefined\");\n",
              "// Übung: was ergibt a == undefined ?\n"
            ],
            "text/plain": [
              "<IPython.core.display.Javascript object>"
            ]
          },
          "metadata": {},
          "output_type": "display_data"
        }
      ],
      "source": [
        "%%js\n",
        "let a;\n",
        "if(a == null)\n",
        "    element.append(\"a äquivalent zu null\");\n",
        "if (a === null)\n",
        "    element.append(\" a ident mit null\");\n",
        "if (a === undefined)\n",
        "    element.append(\" a ident mit undefined\");\n",
        "// Übung: was ergibt a == undefined ?"
      ]
    },
    {
      "cell_type": "markdown",
      "metadata": {
        "editable": "false"
      },
      "source": [
        "## Das globale Objekt"
      ]
    },
    {
      "cell_type": "markdown",
      "metadata": {
        "editable": "false",
        "slideshow": {
          "slide_type": ""
        },
        "tags": []
      },
      "source": [
        "Das *globale Object* is ein Standardobjekt der Javascript-Sprache, das alle möglichen Konstanten und Variablen enthält, die für das gesamte Javascript-Programm gelten. \n",
        "In vielen Situationen greift man auf das globale Objekt zu, z.B. wenn `Infinity`, `NaN` verwendet wird. \n",
        "Aber auch alle globalen Funktionen wie `isNan()`, `parseInt()` oder `eval()` sind beim globalen Objekt aufgehoben.\n",
        "Möchte man auf das globale Objekt selbst zugreifen, dann wird die Variable `globalThis` verwendet."
      ]
    },
    {
      "cell_type": "code",
      "execution_count": 345,
      "metadata": {},
      "outputs": [
        {
          "data": {
            "application/javascript": [
              "element.append(parseInt(\"17\"), \" \", globalThis.parseInt(\"17\"));\n"
            ],
            "text/plain": [
              "<IPython.core.display.Javascript object>"
            ]
          },
          "metadata": {},
          "output_type": "display_data"
        }
      ],
      "source": [
        "%%js\n",
        "element.append(parseInt(\"17\"), \" \", globalThis.parseInt(\"17\"));"
      ]
    },
    {
      "cell_type": "markdown",
      "metadata": {
        "editable": "false"
      },
      "source": [
        "# Verändern und Vergleichen von Daten"
      ]
    },
    {
      "cell_type": "markdown",
      "metadata": {
        "editable": "false"
      },
      "source": [
        "## Ändern von einfachen Werten und Objekten"
      ]
    },
    {
      "cell_type": "markdown",
      "metadata": {
        "editable": "false"
      },
      "source": [
        "Ein primitiver Wert kann in Javascript nicht verändert werden - auch Operationen für Strings,\n",
        "wie `String.replace(a,b)` verändern nicht den String selbst sondern erzeugen als Ergebnis eine neue Zeichenkette. \n",
        "Die  Funktion `String.replace()` gibt also den neuen, veränderten String zurück und beläßt den ursprünglichen String so wie er ist."
      ]
    },
    {
      "cell_type": "markdown",
      "metadata": {
        "editable": "false"
      },
      "source": [
        "Bei Objekten verhält sich das anders: Durch Zuweisungen von Objekt-Attributen wird das Objekt direkt verändert, ohne dass etwa eine Kopie des Objektes entsteht. \n",
        "Der frühere Zustand des Objektes, vor der Zuweisung, ist verschwunden, es ist nur mehr der neue Zustand des Objektes vorhanden. \n",
        "Das Gleiche gilt auch für Javascript-Arrays: Ein Array kann Elemente dazubekommen, verlieren und ausgetauscht bekommen, ohne dass eine Kopie des Arrays hergestellt wird. "
      ]
    },
    {
      "cell_type": "code",
      "execution_count": 346,
      "metadata": {},
      "outputs": [
        {
          "data": {
            "application/javascript": [
              "// Strings können nicht verändert werden\n",
              "let a=\"Hallo Welt\";\n",
              "a.replace(\"Hallo\", \"Servus\");\n",
              "element.append(a);\n",
              "\n",
              "// Objekte kann man verändern\n",
              "let b={einleitung:\"Hallo\", text:\" Welt\"};\n",
              "b.einleitung=\"Servus\";\n",
              "element.append(\" \", b.einleitung, b.text);\n",
              "//Übung: wie könnte man das Ergebnis von `a.replace(\"Hallo\", \"Servus\")` ausgeben?\n"
            ],
            "text/plain": [
              "<IPython.core.display.Javascript object>"
            ]
          },
          "metadata": {},
          "output_type": "display_data"
        }
      ],
      "source": [
        "%%js\n",
        "// Strings können nicht verändert werden\n",
        "let a=\"Hallo Welt\";\n",
        "a.replace(\"Hallo\", \"Servus\");\n",
        "element.append(a);\n",
        "\n",
        "// Objekte kann man verändern\n",
        "let b={einleitung:\"Hallo\", text:\" Welt\"};\n",
        "b.einleitung=\"Servus\";\n",
        "element.append(\" \", b.einleitung, b.text);\n",
        "//Übung: wie könnte man das Ergebnis von `a.replace(\"Hallo\", \"Servus\")` ausgeben?"
      ]
    },
    {
      "cell_type": "markdown",
      "metadata": {
        "editable": "false"
      },
      "source": [
        "Wenn man zwei einfache ve Werte vergleicht, vergleicht man ihre Inhalte - das ist ein Unterschied zu den Objekten. \n",
        "Wenn also zwei String-Variable z.B. mit `==` oder `<` verglichen werden, sind die Inhalte der String ausschlaggebend. So auch bei Zahlen.\n",
        "Vergleicht man hingegen zwei verschiedene Objekte miteinander so wird der Ausdruck `objekt1 ===objekt2` immer `false` ergeben, weil dabei nicht die Werte, sondern die Identität der Objekte (die Objektreferenzen) verglichen werden - und die sind verschieden. \n",
        "Will man die Objekte anhand ihrer Werte vergleichen, muss man es komplizierter machen, indem man Attribut für Attribut durchgeht."
      ]
    },
    {
      "cell_type": "code",
      "execution_count": 347,
      "metadata": {},
      "outputs": [
        {
          "data": {
            "application/javascript": [
              "// Strings als Ganzes vergleichen\n",
              "let a=\"Kaiser Franz\", b=\"Kaiser Franz\";\n",
              "element.append(a===b);\n",
              "\n",
              "// Objekte als Ganzes vergleichen\n",
              "let objekt1={titel:\"Kaiser\", name:\"Franz\"}, objekt2={titel:\"Kaiser\", name:\"Franz\"};\n",
              "element.append(\" \",objekt1===objekt2); \n",
              "\n",
              "// Objekte - Attribut für Attribut vergleichen\n",
              "element.append(\" \", objekt1.name===objekt2.name && objekt1.titel===objekt2.titel);\n",
              "\n",
              "// Übung: wie sieht der Vergleich aus, wenn objekt1={titel:\"Kaiser\", name:null}, objekt2={titel:\"Kaiser\"} ?\n"
            ],
            "text/plain": [
              "<IPython.core.display.Javascript object>"
            ]
          },
          "metadata": {},
          "output_type": "display_data"
        }
      ],
      "source": [
        "%%js\n",
        "// Strings als Ganzes vergleichen\n",
        "let a=\"Kaiser Franz\", b=\"Kaiser Franz\";\n",
        "element.append(a===b);\n",
        "\n",
        "// Objekte als Ganzes vergleichen\n",
        "let objekt1={titel:\"Kaiser\", name:\"Franz\"}, objekt2={titel:\"Kaiser\", name:\"Franz\"};\n",
        "element.append(\" \",objekt1===objekt2); \n",
        "\n",
        "// Objekte - Attribut für Attribut vergleichen\n",
        "element.append(\" \", objekt1.name===objekt2.name && objekt1.titel===objekt2.titel);\n",
        "\n",
        "// Übung: wie sieht der Vergleich aus, wenn objekt1={titel:\"Kaiser\", name:null}, objekt2={titel:\"Kaiser\"} ?"
      ]
    },
    {
      "cell_type": "markdown",
      "metadata": {
        "editable": "false"
      },
      "source": [
        "## Implizite Umwandlungen"
      ]
    },
    {
      "cell_type": "markdown",
      "metadata": {
        "editable": "false"
      },
      "source": [
        "Javascript ist sehr flexibel, was die Typen der primitiven Objekte angeht, mit denen Operationen ausgeführt werden: Immer wenn man der Javascript-Laufzeit einen Wert gibt, versucht Javascript den Wert in einen Typ umzuwandeln, mit dem es etwas anfangen kann. Im Abschnitt über Boolean haben wir schon gesehen, dass Javascript etwa in einem `if()`-Statement alles, was als Parameter übergeben wurde, nach Boolean konvertiert, damit das `if()` ausgeführt werden kann.    \n"
      ]
    },
    {
      "cell_type": "markdown",
      "metadata": {
        "editable": "false"
      },
      "source": [
        "Wenn Objekte implizit in primitive Werte umgewandelt werden müssen, sind es die Methoden `toString()` und `valueOf()`, die durch \n",
        "das Javascript-Laufzeitsytem herangezogen werden. `toString()` ist für die Darstellung eines Objektes als Zeichenkette vorgesehen, während `valueOf()` \n",
        "ganz generell einen passenden Wert zurückliefern soll, der für das Objekt steht - es muss also kein String sein. Ein Beispiel, wo diese beiden Methoden unterschiedliche Werte liefern, ist sind `Date`-Objekte: Sie liefern mit `toString()` eine Zeichenkette, die das Datum leserlich\n",
        "darstellt, und mit `valueOf()` eine Zahl, nämlich die Millisekunden seit dem 1.1.1970."
      ]
    },
    {
      "cell_type": "markdown",
      "metadata": {
        "editable": "false"
      },
      "source": [
        "Betrachtet man die primitiven Typen `String`, `Boolean` und `Number`, so lassen sich folgende Konversionsregeln feststellen:\n",
        "* Wird der Typ Boolean benötigt, dann erfolgt die Umwandlung fast aller Werte in `true`.  Nur die Werte `undefined`, `null`, `0`, `-0`, `NaN` und `\"\"`. \n",
        "werden in `false` konvertiert.\n",
        "* Erwartet sich Javascript einen String, werden primitive Werte in Strings umgewandelt. Bei Objekten wird `toString()` oder `valueOf()` aufgerufen. Diese beiden Funktionen sind immer definiert - im allgemeinen Fall wird dadurch aber wenig nützliche Information erzeugt. Es ist ratsam, Objekte immer mit angepassten `toString()` und `valueOf()` - Funktionen auszustatten. \n",
        "* Ist der erwartete Wert eine Zahl, denn wandelt Javascript die Werte `null`, `false`, den leeren String `\"\"` und ein leeres Array immer in die Zahl `0` um, `true` hingegen wird zu `1`.\n",
        "Ein String, eine gültige Zahl enthält, und ein Array, das nur eine Zahl als einziges Element aufweist, werden immer in die entsprechenden Zahl konvertiert. "
      ]
    },
    {
      "cell_type": "markdown",
      "metadata": {
        "editable": "false"
      },
      "source": [
        "Bemerkenswert im Zusammenhang mit den impliziten Umwandlungen ist der Vergleichsoperator `==`. Das ist nämlich eher ein\n",
        "Ähnlichkeitsoperator. Wenn `a==b` ausgeführt wird, versucht Javascript durch Typ-Umwandlungen ein Ergebnis zu erzielen, bei dem\n",
        "beide Werte vergleichbar sind. \n",
        "* Die Werte `null` und `undefined` werden als gleich behandelt.\n",
        "* Wird ein String mit einer Zahl verglichen, so versucht Javascript, vorher den String in eine Zahl umzuwandeln.\n",
        "* Wird ein String oder eine Zahl mit einem Objekt verglichen, so kommt `valueOf()` zuerst zum Einsatz. Nur, wenn `valueOf()` nicht definiert ist oder keinen primitiven Wert zurückliefert, ist die Methode `toString()` dran. Wenn keine der beiden Methoden irgend einen primitiven Wert zurückgibt, kommt es zu einem Laufzeitfehler. "
      ]
    },
    {
      "cell_type": "code",
      "execution_count": 348,
      "metadata": {},
      "outputs": [
        {
          "data": {
            "application/javascript": [
              "let o={id:333, text:\"König Heinrich V\"};\n",
              "element.append(o.valueOf());\n",
              "element.append(\", \",o == \"König Heinrich V\");\n",
              "\n",
              "if(o)\n",
              "  element.append(\", \", \"o is true\");\n",
              "\n",
              "if(o.titel) \n",
              "  element.append(\", \", \"o hat einen titel\")\n",
              "else \n",
              "  element.append(\", \", \"o hat keinen titel\");\n",
              "\n",
              "let a=[16];\n",
              "element.append(\", \", a-6);\n",
              "//Übung: was ergibt a+4 ?\n",
              "\n",
              "let b=10;\n",
              "element.append(\", \", b*\"10\");\n"
            ],
            "text/plain": [
              "<IPython.core.display.Javascript object>"
            ]
          },
          "metadata": {},
          "output_type": "display_data"
        }
      ],
      "source": [
        "%%js\n",
        "let o={id:333, text:\"König Heinrich V\"};\n",
        "element.append(o.valueOf());\n",
        "element.append(\", \",o == \"König Heinrich V\");\n",
        "\n",
        "if(o)\n",
        "  element.append(\", \", \"o is true\");\n",
        "\n",
        "if(o.titel) \n",
        "  element.append(\", \", \"o hat einen titel\")\n",
        "else \n",
        "  element.append(\", \", \"o hat keinen titel\");\n",
        "\n",
        "let a=[16];\n",
        "element.append(\", \", a-6);\n",
        "//Übung: was ergibt a+4 ?\n",
        "\n",
        "let b=10;\n",
        "element.append(\", \", b*\"10\");"
      ]
    },
    {
      "cell_type": "markdown",
      "metadata": {
        "editable": "false"
      },
      "source": [
        "## Explizite Umwandlungen"
      ]
    },
    {
      "cell_type": "markdown",
      "metadata": {
        "editable": "false"
      },
      "source": [
        "Es ist vielleicht keine schlechte Idee, die Typumwandlungen nicht einem komplizierten automatischen Regelwerk zu überlassen,\n",
        "sondern selbst in die Hand zu nehmen.\n",
        "Dazu eignen sich generell die Funktionen `Number()`, `String()` und `Boolean()`. Besonders häufig ist natürlich die `Number()`-Methode\n",
        "anzutreffen - sie wandelt Strings (und, weniger bedeutend: Boolean-Werte) in Zahlen um.\n",
        "Für die Umwandlung von Zahlen in Zeichenketten gibt es die `Number`- Methoden `toFixed(n)` und `toExponential()`. Die erstere Methode erzeugt \n",
        "einen String mit der Kommazahl, und zwar gerundet auf `n` Nachkommastellen. Die zweite Methode erzeugt die Zeichenkette in der Exponentialschreibweise.\n",
        "Interessant ist auch `toPrecision(n)`, das eine Zahl einfach auf `n` Stellen rundet und die übrigen Stellen mit Nullen auffüllt (vor dem Komma) oder wegläßt (nach dem Komma). \n"
      ]
    },
    {
      "cell_type": "code",
      "execution_count": 349,
      "metadata": {},
      "outputs": [
        {
          "data": {
            "application/javascript": [
              "element.append(Number(\"17\"));\n",
              "element.append(\" \", Number(false));\n",
              "element.append(\" \", 3.14159.toFixed(2));\n",
              "// Übung: ermitteln sie mit weiteren Beispielen, wie bei toFixed() beim Abschneiden gerundet wird\n"
            ],
            "text/plain": [
              "<IPython.core.display.Javascript object>"
            ]
          },
          "metadata": {},
          "output_type": "display_data"
        }
      ],
      "source": [
        "%%js\n",
        "element.append(Number(\"17\"));\n",
        "element.append(\" \", Number(false));\n",
        "element.append(\" \", 3.14159.toFixed(2));\n",
        "// Übung: ermitteln sie mit weiteren Beispielen, wie bei toFixed() beim Abschneiden gerundet wird"
      ]
    },
    {
      "cell_type": "markdown",
      "metadata": {
        "editable": "false"
      },
      "source": [
        "# Variable"
      ]
    },
    {
      "cell_type": "markdown",
      "metadata": {
        "editable": "false"
      },
      "source": [
        "Variable sind *Namen* für einfache Werte und Objekte in Javascript. \n",
        "Variable, Funktionen und Objektklassen entstehen durch ihre Deklaration - das heißt, ein Name wird festgelegt.\n",
        "Die Deklaration erlaubt eine Verwendung von Daten und Programmteilen an anderer Stelle: Wird eine Variable deklariert, so kann sie an anderer Stelle benutzt werden. Wird eine Funktion deklariert, dann kann sie aufgerufen werden. Wird eine Klasse definiert, so können andere Programme diese Klasse verwenden, also Objekte der Klasse anlegen oder ändern und die Funktionen der Objekte aufrufen. \n",
        "Eine Variable wird mit dem Schlüsselwort `let` oder mit dem Schlüsselwort `const` deklariert."
      ]
    },
    {
      "cell_type": "markdown",
      "metadata": {
        "editable": "false"
      },
      "source": [
        "Gleichzeitig mit der Deklaration, oder auch später, erfolgt die *Definition* oder *Initialisierung* der Variablen. \n",
        "Durch diesen Vorgang wird ein Speicherplatz für den deklarierten Namen angelegt. \n",
        "So lange die Deklaration einer Variablen schon erfolgt ist, die Initialisierung aber noch nicht, ist der Wert der Variable `undefined`.\n",
        "Wird eine Variable im Programm verwendet, bevor die Variable überhaupt deklariert wurde, so folgt ein Laufzeitfehler. \n",
        "Das Statement `let a=7;` tut zwei Dinge auf einmal: es bewirkt die Deklaration und gleichzeitig auch die Initialisierung der Variablen `a`."
      ]
    },
    {
      "cell_type": "code",
      "execution_count": 350,
      "metadata": {},
      "outputs": [
        {
          "data": {
            "application/javascript": [
              "let a=7;\n",
              "element.append(a); // a ist deklariert und auch initialisiert\n",
              "let b;\n",
              "element.append(\" \",b); // b ist deklariert aber noch nicht initialisiert\n"
            ],
            "text/plain": [
              "<IPython.core.display.Javascript object>"
            ]
          },
          "metadata": {},
          "output_type": "display_data"
        }
      ],
      "source": [
        "%%js\n",
        "let a=7;\n",
        "element.append(a); // a ist deklariert und auch initialisiert\n",
        "let b;\n",
        "element.append(\" \",b); // b ist deklariert aber noch nicht initialisiert"
      ]
    },
    {
      "cell_type": "markdown",
      "metadata": {
        "editable": "false"
      },
      "source": [
        "Eine andere, oft benötigte Form ist die `for` - Schleife. \n",
        "Im Kopf der `for`-Schleife wird ein Laufvariable deklariert, die bei jedem Durchlauf neu belegt wird.\n",
        "Im nachstehenden Code-Snippet sind die drei Hauptvarianten der `for`-Schleife demonstriert:\n",
        "Die Basisvariante iteriert durch ein Array mit einer Indexvariablen. Die `of` - Variante braucht keinen Index, und durchläuft die Elemente von *Iterable*-Objekten wie Arrays. \n",
        "Die `in`-Variante iteriert durch alle Attribute eines Objektes."
      ]
    },
    {
      "cell_type": "code",
      "execution_count": 351,
      "metadata": {},
      "outputs": [
        {
          "data": {
            "application/javascript": [
              "let a=[17,18,19]\n",
              "for(let i=0; i<a.length; i++) // for-Basisvariante\n",
              "    element.append(a[i], \" \");\n",
              "for(let v of a) \n",
              "    element.append(v, \" \");\n",
              "let b={id:333, text:\"Issos-Keilerei\"};\n",
              "for (let p in b)\n",
              "    element.append(b[p], \" \");\n"
            ],
            "text/plain": [
              "<IPython.core.display.Javascript object>"
            ]
          },
          "metadata": {},
          "output_type": "display_data"
        }
      ],
      "source": [
        "%%js\n",
        "let a=[17,18,19]\n",
        "for(let i=0; i<a.length; i++) // for-Basisvariante\n",
        "    element.append(a[i], \" \");\n",
        "for(let v of a) \n",
        "    element.append(v, \" \");\n",
        "let b={id:333, text:\"Issos-Keilerei\"};\n",
        "for (let p in b)\n",
        "    element.append(b[p], \" \");"
      ]
    },
    {
      "cell_type": "markdown",
      "metadata": {
        "editable": "false"
      },
      "source": [
        "Jede Variable in Javascript hat auch einen *Scope*, also eine festgelegte Sichtbarkeit.\n",
        "Wir konzentrieren uns hier auf die mit `let` oder `const` deklarierten Variablen und lassen die veraltete Form mit `var` aus.\n",
        "Der Geltungsbereich einer Variablen ist der Javscript-Block, in dem sie deklariert wurde, samt aller untergeordneten Blöcke.\n",
        "Blöcke in Javascript sind Funktionen, Klassen, die Körper von `if` Statements, und die Körper von Schleifen. \n",
        "Man kann grob gesprochen auch sagen: Alles, was zwischen geschwungenen Klammern steht, bildet einen eigenen Block, und Blöcke können ineinander verschachtelt sein."
      ]
    },
    {
      "cell_type": "code",
      "execution_count": 352,
      "metadata": {},
      "outputs": [
        {
          "data": {
            "application/javascript": [
              "if(true) \n",
              "{\n",
              "    let a=17;\n",
              "    element.append(a);\n",
              "}\n",
              "element.append(a);\n",
              "//Übung: was geschieht wenn statt `let a=17;` nur `let a;` steht?\n"
            ],
            "text/plain": [
              "<IPython.core.display.Javascript object>"
            ]
          },
          "metadata": {},
          "output_type": "display_data"
        }
      ],
      "source": [
        "%%js\n",
        "if(true) \n",
        "{\n",
        "    let a=17;\n",
        "    element.append(a);\n",
        "}\n",
        "element.append(a);\n",
        "//Übung: was geschieht wenn statt `let a=17;` nur `let a;` steht?"
      ]
    },
    {
      "cell_type": "markdown",
      "metadata": {
        "editable": "false"
      },
      "source": [
        "Bei verschachtelten Blöcken kann ein- und derselbe Variablenname auch in einem untergeordneten Block wieder deklariert werden und begründet dann wieder eine eigene Variable desselben Namens, die so lange gültig bleibt, wie der untergeordnete Block aktiv ist. "
      ]
    },
    {
      "cell_type": "code",
      "execution_count": 353,
      "metadata": {},
      "outputs": [
        {
          "data": {
            "application/javascript": [
              "let a=\"König Heinrich I\"; \n",
              "if(true) {\n",
              "    let a= \"König Heinrich V\"; // das neue a bleibt gültig so lange dieser Block aktiv ist\n",
              "    element.append(a);\n",
              "} else {\n",
              "    element.append(a);\n",
              "}\n",
              "element.append(\" \", a);\n",
              "// Übung: Was geschieht wenn else statt if angesprungen wird ?\n"
            ],
            "text/plain": [
              "<IPython.core.display.Javascript object>"
            ]
          },
          "metadata": {},
          "output_type": "display_data"
        }
      ],
      "source": [
        "%%js\n",
        "let a=\"König Heinrich I\"; \n",
        "if(true) {\n",
        "    let a= \"König Heinrich V\"; // das neue a bleibt gültig so lange dieser Block aktiv ist\n",
        "    element.append(a);\n",
        "} else {\n",
        "    element.append(a);\n",
        "}\n",
        "element.append(\" \", a);\n",
        "// Übung: Was geschieht wenn else statt if angesprungen wird ?"
      ]
    },
    {
      "cell_type": "markdown",
      "metadata": {
        "editable": "false"
      },
      "source": [
        "**Destrukturierung:** Bis jetzt haben wir die Initialisierung von Variablen hauptsächlich durch Literalen gesehen, wie bei `let a=7;`. \n",
        "Natürlich können auch andere Variable für Wertzuweisungen verwendet werden, wie bei `let a=b;`.\n",
        "Eine flexiblere Variante sind *Zuweisungen durch Dekonstruktion*. \n",
        "Bei diesen Zuweisungen steht sowohl auf der rechten Seite, auf Seiten der Quelle, als auf auf der linken Seite, dem Zuweisungsziel ein Array oder ein Objekt. \n",
        "Die auf der linken Seite deklarierten Variablen werden aus der Quelle gezielt befüllt - jede Variable auf der linken Seite holt sich den passenden Wert von rechts.\n",
        "\n",
        "Enthält das Arry auf der linke Seite aufeinanderfolgende Kommas, so werden die entsprechenden Elemente der Quelle ignoriert. \n",
        "Auf der linken Seite kann das letzte Element mit drei Punkten eingeleitet werden - dadurch nimmt die letzte Variable den ganzen Rest\n",
        "des Arrays auf, das auf der rechten Seite als Quelle der Zuweisung steht."
      ]
    },
    {
      "cell_type": "code",
      "execution_count": 354,
      "metadata": {},
      "outputs": [
        {
          "data": {
            "application/javascript": [
              "let a=[1,2,3,4,5,6,7];\n",
              "let [u,v] = a; // 1. und 2. Element\n",
              "let [w,,x] = a; // 1. und 3. Element\n",
              "let [y, ...z] =a; // 1. Element und der Rest\n",
              "element.append(\"u=\",u,\" v=\", v,\" w=\", w,\" x=\", x,\" y=\", y,\" z=\", z);\n"
            ],
            "text/plain": [
              "<IPython.core.display.Javascript object>"
            ]
          },
          "metadata": {},
          "output_type": "display_data"
        }
      ],
      "source": [
        "%%js\n",
        "let a=[1,2,3,4,5,6,7];\n",
        "let [u,v] = a; // 1. und 2. Element\n",
        "let [w,,x] = a; // 1. und 3. Element\n",
        "let [y, ...z] =a; // 1. Element und der Rest\n",
        "element.append(\"u=\",u,\" v=\", v,\" w=\", w,\" x=\", x,\" y=\", y,\" z=\", z);"
      ]
    },
    {
      "cell_type": "markdown",
      "metadata": {
        "editable": "false"
      },
      "source": [
        "Wenn Quelle und Ziel der destrukturierenden Zuweisung Objekte sind, erfolgt durch die Variablendeklarationen der linken Seite eine Auswahl aus den Attributen des Quell-Objektes.\n",
        "Durch diese Art von Zuweisung können einzelne Werte aus komplexen Objekten extrahiert und als eigene Variable gespeichert werden."
      ]
    },
    {
      "cell_type": "code",
      "execution_count": 355,
      "metadata": {},
      "outputs": [
        {
          "data": {
            "application/javascript": [
              "let {id, kategorie} = {id:333,text:\"Issos-Keilerei\", kategorie:\"Schlacht\", land:\"Türkei\"};\n",
              "element.append(id, \" \", kategorie);\n"
            ],
            "text/plain": [
              "<IPython.core.display.Javascript object>"
            ]
          },
          "metadata": {},
          "output_type": "display_data"
        }
      ],
      "source": [
        "%%js\n",
        "let {id, kategorie} = {id:333,text:\"Issos-Keilerei\", kategorie:\"Schlacht\", land:\"Türkei\"};\n",
        "element.append(id, \" \", kategorie);"
      ]
    },
    {
      "cell_type": "markdown",
      "metadata": {
        "editable": "false"
      },
      "source": [
        "# Operatoren"
      ]
    },
    {
      "cell_type": "markdown",
      "metadata": {
        "editable": "false"
      },
      "source": [
        "Ein *Ausdruck* ist ein Javascript-Sprachkonstrukt mit einer definierten Syntax, das zur Laufzeit einen Wert liefert.\n",
        "Es entsteht also zur Laufzeit als Ergebnis des Ausdruckes ein Wert als primitiver Wert oder als Objekt. \n",
        "Viele Ausdrücke, wie Initialisierungen, Funktionsdefinitionen u.ä. werden in anderen Kapiteln behandelt.\n",
        "Hier konzentrieren wir uns auf Ausdrücke, die *Operatoren* enthalten."
      ]
    },
    {
      "cell_type": "markdown",
      "metadata": {
        "editable": "false"
      },
      "source": [
        "** Arithmetische Operatoren ** sind beim Abschnitt über Zahlen bereits erläutert worden. "
      ]
    },
    {
      "cell_type": "markdown",
      "metadata": {
        "editable": "false"
      },
      "source": [
        "**Unäre Operatoren:** Es gibt eine Gruppe von Operatoren, die *unär* sind, das heißt, sie brauchen nur einen Operanden. \n",
        "Dazu zählen das unäre Plus `+`, unäres Minus `-`, sowie der Inkrement- bwz. Dekrement-Operator `++` bzw. `--`.\n",
        "Unäres Plus wandelt den Operanden in eine Zahl um und retourniert das Ergebnis (kann auch `NaN` sein). \n",
        "Unäres Minus tut das gleiche, aber retourniert das Ergebnis negativ genommen. Es wird also noch mit `-1` multipliziert.\n",
        "Inkrement und Dekrement haben zwei Auswirkungen: Sie wandeln den Operanden, der eine Variable sein muss, in eine Zahl um, zählen 1 dazu oder weg, speichern das Ergebnis zurück in die Variable, und retournieren den Wert. Hier muss man auf die Position des Doppelzeichens Acht geben: Steht das Doppelplus/Doppelminus vor der Variablen, wird der alte Wert retourniert, sonst der neue. "
      ]
    },
    {
      "cell_type": "markdown",
      "metadata": {
        "editable": "false"
      },
      "source": [
        "**Der Plus-Operator** ist nicht nur für Zahlen definiert, sondern auch als *Verkettungsoperator* für Zeichenketten und Objekte.\n",
        "Javascript verfährt dabei so: Zuerst wird versucht, das oder die beteiligten Objekte in einfache Werte umzuwandeln.\n",
        "Wenn dann einer der Operanden ein String ist, wird `+` wie eine String-Verkettung anwendet und das Ergebnis ist der zusammengesetzte String.\n",
        "Wenn kein Operand ein String ist, wird eine Umwandlung in Zahlen versucht, und, wenn das erfolgreich ist, die Summe berechnet."
      ]
    },
    {
      "cell_type": "code",
      "execution_count": 356,
      "metadata": {},
      "outputs": [
        {
          "data": {
            "application/javascript": [
              "let a=\"17\"; // speichert 17 als Zahl\n",
              "if(+a === 17) \n",
              "  element.append(\"true\");\n",
              "if(a === 17)\n",
              "  element.append(\" auch true\")\n",
              "else \n",
              "  element.append(\" false\");\n",
              "\n",
              "let n=15;\n",
              "if(++n === 16) // n wird 16\n",
              "   element.append(\" ++n ist 16\");\n",
              "if(n++ == 17) // n wird 17\n",
              "   element.append(\" n++ ist 17\");\n",
              "else\n",
              "    element.append(\" n++ ist nicht 17\");\n",
              "element.append(\" \", n);\n"
            ],
            "text/plain": [
              "<IPython.core.display.Javascript object>"
            ]
          },
          "metadata": {},
          "output_type": "display_data"
        }
      ],
      "source": [
        "%%js\n",
        "let a=\"17\"; // speichert 17 als Zahl\n",
        "if(+a === 17) \n",
        "  element.append(\"true\");\n",
        "if(a === 17)\n",
        "  element.append(\" auch true\")\n",
        "else \n",
        "  element.append(\" false\");\n",
        "\n",
        "let n=15;\n",
        "if(++n === 16) // n wird 16\n",
        "   element.append(\" ++n ist 16\");\n",
        "if(n++ == 17) // n wird 17\n",
        "   element.append(\" n++ ist 17\");\n",
        "else\n",
        "    element.append(\" n++ ist nicht 17\");\n",
        "element.append(\" \", n);"
      ]
    },
    {
      "cell_type": "markdown",
      "metadata": {
        "editable": "false"
      },
      "source": [
        "**Logische Operatoren** sind `&&` für das logisch \"und\", `||` für \"oder\",  und `!` für die Negation.\n",
        "Als unärer Operator hat `!` immer den Vorrang bei der Auswertung.\n",
        "Die logische Operatoren kommen oft zusammen mit Vergleichsoperatoren `===` oder `==` vor - man beachte dabei, dass die Vergleichsoperatoren vorrangig ausgewertet werden.\n",
        "Wenn der `&&`-Operator den ersten Ausdruck als `false` ausgewertet hat, wird der zweite nicht mehr ausgewertet. \n",
        "Wenn der `||`-Operator den ersten Ausdruck als `true` ausgewertet hat, wird der zweite ebenfalls nicht mehr ausgewertet."
      ]
    },
    {
      "cell_type": "markdown",
      "metadata": {
        "editable": "false"
      },
      "source": [
        "**Zuweisungen** sind wichtige Operatoren in Javascript. Neben der einfachen Zuweisung `=`, durch die eine Variable, eine Konstante oder \n",
        "eine Objekteigenschaft einen Wert bekommt, gibt es noch einige kombinierte Zuweisungen, die neben dem reinen übertragen eines Wertes noch weitere Modifiktionen beim Empfänger der Zuweisung vornehmen. \n",
        "Der gebräuchlichsten dieser Art sind `a += b`, abgekürzt für `a= a+b`, jedoch sind auch `a-=b` sowie `a*=b` gültig."
      ]
    },
    {
      "cell_type": "code",
      "execution_count": 357,
      "metadata": {},
      "outputs": [
        {
          "data": {
            "application/javascript": [
              "let a=2, b=3;\n",
              "a+=b;\n",
              "element.append(a);\n",
              "a*=b;\n",
              "element.append(\" \", a);\n"
            ],
            "text/plain": [
              "<IPython.core.display.Javascript object>"
            ]
          },
          "metadata": {},
          "output_type": "display_data"
        }
      ],
      "source": [
        "%%js\n",
        "let a=2, b=3;\n",
        "a+=b;\n",
        "element.append(a);\n",
        "a*=b;\n",
        "element.append(\" \", a);"
      ]
    },
    {
      "cell_type": "markdown",
      "metadata": {
        "editable": "false"
      },
      "source": [
        "**Conditional-Operator**: Wenn `console.print(b? c:d)` geschrieben wird, bedeutet das soviel wie *Wenn b `true` ist, dann gib `c` aus, sonst `d`.\n",
        "Dieser Bedingungsausdruck ist sehr beliebt und kann die Klarheit von Programmen bei einfachen Auswertungen wesentlich erhöhen."
      ]
    },
    {
      "cell_type": "code",
      "execution_count": 358,
      "metadata": {},
      "outputs": [
        {
          "data": {
            "application/javascript": [
              "let a=Math.random();\n",
              "element.append(a, \" \", a<0.5? \"a ist klein\":\"a ist groß\");\n",
              "// Übung: wie würde das append ohne den Bedingungsoperator ? aussehen?\n"
            ],
            "text/plain": [
              "<IPython.core.display.Javascript object>"
            ]
          },
          "metadata": {},
          "output_type": "display_data"
        }
      ],
      "source": [
        "%%js\n",
        "let a=Math.random();\n",
        "element.append(a, \" \", a<0.5? \"a ist klein\":\"a ist groß\");\n",
        "// Übung: wie würde das append ohne den Bedingungsoperator ? aussehen?"
      ]
    },
    {
      "cell_type": "markdown",
      "metadata": {
        "editable": "false"
      },
      "source": [
        "Der **First-Defined Operator** `a ?? b` liefert den links stehende Ausdruck zurück, wenn er einen gültigen Wert ergibt, wobei *gültig* hier alles ist außer`undefined` oder `null`. \n",
        "In diesem Falle tut der Operator nichts Besonderes.\n",
        "Ist hingegen der linke Operand `undefined` oder `null`, dann wird der rechte Operand zurückgegeben.\n",
        "Damit kann man auf elegante Art Variablen mit Default-Werten belegen, wenn sie noch keinen gültigen Wert haben."
      ]
    },
    {
      "cell_type": "code",
      "execution_count": 359,
      "metadata": {},
      "outputs": [
        {
          "data": {
            "application/javascript": [
              "let a=17, b;\n",
              "element.append(a??100);\n",
              "element.append(\" \", b??100);\n"
            ],
            "text/plain": [
              "<IPython.core.display.Javascript object>"
            ]
          },
          "metadata": {},
          "output_type": "display_data"
        }
      ],
      "source": [
        "%%js\n",
        "let a=17, b;\n",
        "element.append(a??100);\n",
        "element.append(\" \", b??100);"
      ]
    },
    {
      "cell_type": "markdown",
      "metadata": {
        "editable": "false"
      },
      "source": [
        "Der **Optional Chaining** - Operator `obj?.property` ist eine Variante des Zugriffsoperators `obj.property`, mit dem die Eigenschaft `property` des Objektes `obj` gelesen wird.\n",
        "Das Besondere an `obj?.property` ist die Toleranz von `undefined`: Sollte das Object `ob` nicht initialisiert worden sein, also den Wert `undefined` haben, dann gibt es keinen Laufzeitfehler, sondern das Ergebnis ist der Wert `undefined`.\n",
        "Damit lassen sich bequem ganze Ketten von aufeinander aufbauendene `property`-Abfragen ausführen, ohne dass ein Laufzeitfehler befürchtet werden muss, weil etwas nicht definiert ist."
      ]
    },
    {
      "cell_type": "code",
      "execution_count": 360,
      "metadata": {},
      "outputs": [
        {
          "data": {
            "application/javascript": [
              "let a={name:\"Hans\"};\n",
              "element.append(a.name, \" \", a?.adresse, \" \", a?.adresse?.strasse);\n"
            ],
            "text/plain": [
              "<IPython.core.display.Javascript object>"
            ]
          },
          "metadata": {},
          "output_type": "display_data"
        }
      ],
      "source": [
        "%%js\n",
        "let a={name:\"Hans\"};\n",
        "element.append(a.name, \" \", a?.adresse, \" \", a?.adresse?.strasse);"
      ]
    },
    {
      "cell_type": "markdown",
      "metadata": {
        "editable": "false"
      },
      "source": [
        "# Befehle"
      ]
    },
    {
      "cell_type": "markdown",
      "metadata": {
        "editable": "false"
      },
      "source": [
        "Ein Javascript-Befehl (Statement) ist eigentlich alles, was einen Ausführung im Programm bewirkt. \n",
        "Eine wichtige Gruppe von Statements sind Ausdrücke, die durch Operatoren zum Wirken kommen. \n",
        "Wie haben sie schon behandelt.\n",
        "Andere Statments, die schon behandelt wurden, sind die Variablendefinitionen `let` und `const` mit dem Zuweisungsoperator `=`. \n",
        "Statements, die nacheinander angeschrieben sind (sequentielle Statements), werden wie schon erwähnt am besten durch `;` getrennt. \n",
        "Man wird eine Sequenz von Statements oft mit den Klammern `{` und `}` in einen Block zusammenfassen - der ganze Block gilt als ein Statement, der selber wieder aus solchen besteht.\n",
        "Neben Sequenzen und Blöcken gibt es besonders interessante Anordnungen von Statments, mit denen wir uns hier befassen wollen."
      ]
    },
    {
      "cell_type": "markdown",
      "metadata": {
        "editable": "false"
      },
      "source": [
        "#### if, switch\n",
        "\n",
        "`if` ist gundlegendes Javascript-Statement. \n",
        "Seine allgemeine Form ist `if (expression) then statement else statement`.  "
      ]
    },
    {
      "cell_type": "code",
      "execution_count": 361,
      "metadata": {},
      "outputs": [
        {
          "data": {
            "application/javascript": [
              "let a=17;\n",
              "if (a<10) {\n",
              "    element.append(\"a < 10: \");\n",
              "    element.append(a);\n",
              "} \n",
              "else {\n",
              "    element.append(\"a >10: \");\n",
              "    element.append(a);\n",
              "}\n",
              "// Übung: wie sieht der Code aus, wenn der Fall a==10 besonders abgehandelt werden soll?\n"
            ],
            "text/plain": [
              "<IPython.core.display.Javascript object>"
            ]
          },
          "metadata": {},
          "output_type": "display_data"
        }
      ],
      "source": [
        "%%js\n",
        "let a=17;\n",
        "if (a<10) {\n",
        "    element.append(\"a < 10: \");\n",
        "    element.append(a);\n",
        "} \n",
        "else {\n",
        "    element.append(\"a >10: \");\n",
        "    element.append(a);\n",
        "}\n",
        "// Übung: wie sieht der Code aus, wenn der Fall a==10 besonders abgehandelt werden soll?"
      ]
    },
    {
      "cell_type": "markdown",
      "metadata": {
        "editable": "false"
      },
      "source": [
        "Es gibt eine besondere Form der Verschachtelung mehrerer If-Statements - die Kaskade. \n",
        "Die Kaskadenform ist interessant, wenn von mehreren Möglichkeiten immer nur einziges der möglichen Statements ausgeführt werden soll."
      ]
    },
    {
      "cell_type": "code",
      "execution_count": 362,
      "metadata": {},
      "outputs": [
        {
          "data": {
            "application/javascript": [
              "let a= 17;\n",
              "if (a<10) \n",
              "    element.append(\"a sehr klein\")\n",
              "else if (a<15)\n",
              "    element.append(\"a recht klein\")\n",
              "else if (a<20)\n",
              "    element.append(\"a nicht klein\")\n",
              "else if (a<30)\n",
              "    element.append(\"a groß \")\n",
              "else \n",
              "    element.append(\"a sehr groß\");\n",
              "//Übung: probieren Sie andere Werte für a\n"
            ],
            "text/plain": [
              "<IPython.core.display.Javascript object>"
            ]
          },
          "metadata": {},
          "output_type": "display_data"
        }
      ],
      "source": [
        "%%js\n",
        "let a= 17;\n",
        "if (a<10) \n",
        "    element.append(\"a sehr klein\")\n",
        "else if (a<15)\n",
        "    element.append(\"a recht klein\")\n",
        "else if (a<20)\n",
        "    element.append(\"a nicht klein\")\n",
        "else if (a<30)\n",
        "    element.append(\"a groß \")\n",
        "else \n",
        "    element.append(\"a sehr groß\");\n",
        "//Übung: probieren Sie andere Werte für a"
      ]
    },
    {
      "cell_type": "markdown",
      "metadata": {
        "editable": "false"
      },
      "source": [
        "Eine `if`-Kaskade, bei der verschiedene Ausprägungen einer Variable als Varianten behandelt werden, kann deutlicher durch `switch` ersetzt werden.\n",
        "Dieses komplexe Statement nimmt einen Anfangswert und bestimmt über diesen, welche Statements ausgeführt werden. \n",
        "Die einzelnen Werte werden durch die `case`-Klausel des `switch`-Befehles abgefragt."
      ]
    },
    {
      "cell_type": "code",
      "execution_count": 363,
      "metadata": {},
      "outputs": [
        {
          "data": {
            "application/javascript": [
              "let a=2;\n",
              "switch (a) {\n",
              "    case 1: \n",
              "        element.append(\" a repräsentiert die aktion 1\");\n",
              "        break;\n",
              "    case 2:\n",
              "        element.append(\" aufgrund des wertes 2 wird aktion 2 ausgeführt\");\n",
              "        break;\n",
              "    default:\n",
              "        element.append(\" ungültiger wert\");\n",
              "}\n",
              "// Übung: Behandeln sie den Fall 2<a<5 noch mit einer eigenen Ausgabe. Probieren Sie einige Werte für a.\n"
            ],
            "text/plain": [
              "<IPython.core.display.Javascript object>"
            ]
          },
          "metadata": {},
          "output_type": "display_data"
        }
      ],
      "source": [
        "%%js\n",
        "let a=2;\n",
        "switch (a) {\n",
        "    case 1: \n",
        "        element.append(\" a repräsentiert die aktion 1\");\n",
        "        break;\n",
        "    case 2:\n",
        "        element.append(\" aufgrund des wertes 2 wird aktion 2 ausgeführt\");\n",
        "        break;\n",
        "    default:\n",
        "        element.append(\" ungültiger wert\");\n",
        "}\n",
        "// Übung: Behandeln sie den Fall 2<a<5 noch mit einer eigenen Ausgabe. Probieren Sie einige Werte für a."
      ]
    },
    {
      "cell_type": "markdown",
      "metadata": {
        "editable": "false"
      },
      "source": [
        "Jeder `case` ist die Abarbeitung von einem oder mehreren Statements, die einen Zweig ausmachen. \n",
        "Der `break`-Befehl bewirkt den Sprung aus dem gesamten `switch`-Statement heraus (ohne `break` würden alle nachfolgenden Zweige ebenfalls ausgeführt).\n",
        "Es ist anzumerken, dass sowohl der Ausdruck im `switch` als auch die Ausdrücke in den `case`-Befehlen beliebige Ausdrücke sein können, nicht bloß Variablen oder Konstanten.\n",
        "So könnte man statt `switch(a)` auch `switch(type(a))` formulieren, mit den zugehörigen Switch-Zweigen z.B. `case \"Number\"` und `case \"String\"`."
      ]
    },
    {
      "cell_type": "markdown",
      "metadata": {
        "editable": "false"
      },
      "source": [
        "#### while, for\n",
        "\n",
        "Die While-Schleife ist die Basisvariante eines *Loop* in Javascript.\n",
        "Die Form ist `while(expression) statement`.\n",
        "Der Block `statement` wird nur ausgeführt, wenn `expression` den Wert `true` ergibt - oder einen Wert, der zu `true` umgewandelt werden kann (*true-ish*). "
      ]
    },
    {
      "cell_type": "code",
      "execution_count": 364,
      "metadata": {},
      "outputs": [
        {
          "data": {
            "application/javascript": [
              "let lines= [\"erste zeile\", \"zweite zeile\", \"dritte zeile\"];\n",
              "let index= 0;\n",
              "while (lines[index]) {\n",
              "    element.append(lines[index], \". \");\n",
              "    index++;\n",
              "}\n",
              "// Übung: welchen Wert hat lines[index] unmittelbar nach Durchführung der while-Schleife? \n"
            ],
            "text/plain": [
              "<IPython.core.display.Javascript object>"
            ]
          },
          "metadata": {},
          "output_type": "display_data"
        }
      ],
      "source": [
        "%%js\n",
        "let lines= [\"erste zeile\", \"zweite zeile\", \"dritte zeile\"];\n",
        "let index= 0;\n",
        "while (lines[index]) {\n",
        "    element.append(lines[index], \". \");\n",
        "    index++;\n",
        "}\n",
        "// Übung: welchen Wert hat lines[index] unmittelbar nach Durchführung der while-Schleife? "
      ]
    },
    {
      "cell_type": "markdown",
      "metadata": {
        "editable": "false"
      },
      "source": [
        "Ein Variante von `while`, der allerdings geringe praktische Bedeutung zukommt, ist die `do statement while (expression)` - Variante. \n",
        "Hier wird der `statement` - Block auf jeden Fall einmal ausgeführt und so lange wiederholt, bis `expression` nach `false` konvertiert werden kann."
      ]
    },
    {
      "cell_type": "markdown",
      "metadata": {
        "editable": "false"
      },
      "source": [
        "Um Schleifen für Arrays und andere Iterierbare Strukturen einfach und lesbar umzusetzen, hat sie das `for`-Konstrukt durchgesetzt.\n",
        "Im obigen Beispiel der `while`-Schleife haben wir durch `index=0` eine Initialisierung vorgenommen, ferner wird in der `while`-Klammer die Bedingung für das Ende der Schleife überprüft, und es wurde im *Body* der Schleife ein Inkrement `index++` ausgeführt.\n",
        "Diese typische Struktur kann man vereinfacht auch durch `for(Initialisierung, Ende-Prüfung, Inkrement)` ausdrücken."
      ]
    },
    {
      "cell_type": "code",
      "execution_count": 365,
      "metadata": {},
      "outputs": [
        {
          "data": {
            "application/javascript": [
              "let lines= [\"erste zeile\", \"zweite zeile\", \"dritte zeile\"];\n",
              "for(let index=0; lines[index]; index++)\n",
              "    element.append(lines[index], \". \");\n",
              "// Übung: wie sieht dieses Programm als while-Schleife aus?\n"
            ],
            "text/plain": [
              "<IPython.core.display.Javascript object>"
            ]
          },
          "metadata": {},
          "output_type": "display_data"
        }
      ],
      "source": [
        "%%js\n",
        "let lines= [\"erste zeile\", \"zweite zeile\", \"dritte zeile\"];\n",
        "for(let index=0; lines[index]; index++)\n",
        "    element.append(lines[index], \". \");\n",
        "// Übung: wie sieht dieses Programm als while-Schleife aus?"
      ]
    },
    {
      "cell_type": "markdown",
      "metadata": {
        "editable": "false"
      },
      "source": [
        "Mit dem `for/of`-Konstrukt wird es noch einfacher, die Elemente von Arrays, Strings, Sets und Maps in einer Schleife zu behandeln. \n",
        "Die Form ist hier `for(let var of array) statement;` - es entfällt die Initialisierung und das Inkrement der Zählervariablen.\n",
        "Weitere Spielarten der `for/of` -Schleife und das `for/in`-Konstrukt werden bei den Objekten behandelt."
      ]
    },
    {
      "cell_type": "code",
      "execution_count": 366,
      "metadata": {},
      "outputs": [
        {
          "data": {
            "application/javascript": [
              "let lines= [\"erste zeile\", \"zweite zeile\", \"dritte zeile\"];\n",
              "for (let line of lines)\n",
              "    element.append(line, \". \");\n",
              "//Übung: geben sie auch den Index der Zeile im Array aus\n"
            ],
            "text/plain": [
              "<IPython.core.display.Javascript object>"
            ]
          },
          "metadata": {},
          "output_type": "display_data"
        }
      ],
      "source": [
        "%%js\n",
        "let lines= [\"erste zeile\", \"zweite zeile\", \"dritte zeile\"];\n",
        "for (let line of lines)\n",
        "    element.append(line, \". \");\n",
        "//Übung: geben sie auch den Index der Zeile im Array aus"
      ]
    },
    {
      "cell_type": "markdown",
      "metadata": {
        "editable": "false"
      },
      "source": [
        "#### throw / try .. catch / finally\n",
        "\n",
        "Mit dem Befehl `throw` wird in Javascript eine Ausnahme oder *Exception* erzeugt. \n",
        "Eine Ausnahme repräsentiert als Javascript-Objekt ein unübliches Ereignis, das den normalen Programmablauf zunächst unterbricht. \n",
        "Nicht nur `throw` bewirkt eine solche Ausnahme, sondern auch jeder Laufzeitfehler wird in Javascript auf diese Art signalisiert. \n",
        "\n",
        "Was bei einer Ausnahme geschieht, kann die Programmiererin durch das Befehlskonstrukt `try/catch/finally` steuern.\n",
        "Der `try`-Block enthält den normalen Ablauf des Programmes. \n",
        "Wenn in diesem Ablauf keine Ausnahme vorkommt, wird er vom Anfang bis zum Ende ausgeführt.\n",
        "Wird im `try`-Block direkt durch `throw` oder indirekt durch eine aufgerufene Funkion eine Ausnahme erzeugt, dann erfolgt die Ausführung das `catch`-Blocks.\n",
        "Nachdem entweder nur `try` ohne Ausnahme oder `catch` nach einer Ausnahme ausgeführt wurden, kommt jedenfalls `finally` zu Zuge."
      ]
    },
    {
      "cell_type": "code",
      "execution_count": 367,
      "metadata": {},
      "outputs": [
        {
          "data": {
            "application/javascript": [
              "let a;\n",
              "try {\n",
              "    a= Math.random();\n",
              "    if(a < 0.5)\n",
              "        throw(\"exception! \");\n",
              "    else \n",
              "        element.append(\"no error. \");\n",
              "}\n",
              "catch (exception) {\n",
              "    element.append(exception);\n",
              "}\n",
              "finally {\n",
              "    element.append(\"value is \", a);\n",
              "}\n",
              "// Übung: was passiert, wenn im catch-Block wieder eine Exception geworfen wird?\n"
            ],
            "text/plain": [
              "<IPython.core.display.Javascript object>"
            ]
          },
          "metadata": {},
          "output_type": "display_data"
        }
      ],
      "source": [
        "%%js\n",
        "let a;\n",
        "try {\n",
        "    a= Math.random();\n",
        "    if(a < 0.5)\n",
        "        throw(\"exception! \");\n",
        "    else \n",
        "        element.append(\"no error. \");\n",
        "}\n",
        "catch (exception) {\n",
        "    element.append(exception);\n",
        "}\n",
        "finally {\n",
        "    element.append(\"value is \", a);\n",
        "}\n",
        "// Übung: was passiert, wenn im catch-Block wieder eine Exception geworfen wird?"
      ]
    },
    {
      "cell_type": "markdown",
      "metadata": {
        "editable": "false"
      },
      "source": [
        "Der `catch`-Block des `try/catch/finally`-Konstruktes muss nicht vorhanden sein.\n",
        "Fehlt `catch` und tritt eine Ausnahme im `try`-Block auf, dann wird sofort `finally` ausgeführt, wonach dann die Ausnahme normalerweise weiter \"nach oben\" eskaliert.\n",
        "Wenn in `finally` wiederum eine Ausnahme erzeugt wird, dann eskaliert diese nach oben - auch, wenn `catch` zuvor noch eine andere Ausnahme geworfen hatte - die Ausnahme des `catch`-Blockes geht in diesem Falle  unter. \n",
        "Wenn in `finally` ein `return`-Statement auftritt, wird die Funktion normal ohne Ausnahme abgeschlossen, als ob nichts geschehen wäre - selbst dann, wenn der `catch`-Block zuvor eine Ausnahme geworfen hat. "
      ]
    },
    {
      "cell_type": "markdown",
      "metadata": {
        "editable": "false"
      },
      "source": [
        "#### break, continue\n",
        "\n",
        "Die Statements `break` und `continue` sind Sprunganweisungen, die besondere Sprünge in den `while`- und `for`-Schleifen bewirken. \n",
        "Wenn im Body einer Schleife das Statement `break` ausgeführt wird, springt das Programm sofort aus der Schleife heraus, ohne wie normal den restlichen Body noch abzuarbeiten. \n",
        "Die Schleife wird also vorzeitig beendet, obwohl sie normalerweise noch weitere Schleifendurchläufe hätte haben können. \n",
        "Wird `continue` im Body ausgeführt, so ist der Sprung nicht so radikal: er geht an den Anfang der Schleife, das heißt, je nach der Schleifenbedingung kann jetzt in der Schleife weiter gearbeitet werden - es wird nur der akutelle Durchlauf vorzeitig beendet, nicht gleich die ganze Schleife. "
      ]
    },
    {
      "cell_type": "code",
      "execution_count": 368,
      "metadata": {},
      "outputs": [
        {
          "data": {
            "application/javascript": [
              "let name=\"Müller\";\n",
              "for(let s of name) {\n",
              "    if (s==='l')\n",
              "        continue;\n",
              "    element.append(s, \" \");\n",
              "}\n",
              "//Übung: was geschieht, wenn continue durch break ersetzt wird?\n"
            ],
            "text/plain": [
              "<IPython.core.display.Javascript object>"
            ]
          },
          "metadata": {},
          "output_type": "display_data"
        }
      ],
      "source": [
        "%%js\n",
        "let name=\"Müller\";\n",
        "for(let s of name) {\n",
        "    if (s==='l')\n",
        "        continue;\n",
        "    element.append(s, \" \");\n",
        "}\n",
        "//Übung: was geschieht, wenn continue durch break ersetzt wird?"
      ]
    },
    {
      "cell_type": "markdown",
      "metadata": {
        "editable": "false"
      },
      "source": [
        "# Objekte"
      ]
    },
    {
      "cell_type": "markdown",
      "metadata": {
        "editable": "false"
      },
      "source": [
        "## Objekteigenschaften: Daten\n",
        "\n",
        "Einfache Werte wie String, Date, Number gehören oft zu einer Einheit zusammen. Die Zusammenfassung verschiedener Werten zu einem Ganzen läßt ein Javascript Objekt entstehen. Ein Beispiel sind Werte wie `\"Fischer\"`, `\"Fritz\"`und `\"Fischgasse 1\"`, die zusammen ein Objekt `Person` entstehen lassen. Man beachte: Die Werte gehören alle zur selben Person, nur dann ist ihre Zusammenfassung zu einem Objekt sinnvoll. Wenn das Objekt einmal definiert ist, wird es immer als Einheit verwendet, also gespeichert, angezeigt und an andere Systeme übergeben. \n",
        "\n",
        "Damit in Javascript ein Objekt definiert werden kann, ist noch etwas anderes erforderlich: \n",
        "die einzelnen Werte müssen Namen bekommen, um sie selektiv abzufragen und zu verändern.\n",
        "Dass eine Person den Wert `\"Horst\"` hat, ist nur dann von praktischer Bedeutung, wenn weiß, dass `\"Horst\"` der  Vorname der Person ist. \n",
        "Wir sagen: Die Eigenschaft `vorname`des Personenobjektes hat den Wert `\"Horst\"`. \n",
        "In dem folgenden Code wird eine Variable definiert, die auf ein Objekt verweist, das die Daten einer Person beinhaltet.\n",
        "Das Person-Objekt hat die Eigenschaften `name`, `vorname` und `anschrift`. \n",
        "\n",
        "Im folgenden Beispiel sieht man, wie Objekte als *Literale*, also durch Zeichenfolgen im Programmcode, erzeugt werden können: Man schreibt das ganze Objekt zwischen geschwungene Klammern, und innerhalb der Klammern werden die Eigenschaften durch Beistriche getrennt geschrieben. Jede Eigenschaft besteht aus einem Namen, dem Doppelpunkt  und dem Wert."
      ]
    },
    {
      "cell_type": "code",
      "execution_count": 369,
      "metadata": {},
      "outputs": [
        {
          "data": {
            "application/javascript": [
              "let person= {name:\"Fischer\", vorname:\"Fritz\", anschrift:\"Fischgasse 1\"};\n",
              "element.append(person.name, \" \", person.vorname, \" \", person.anschrift);\n"
            ],
            "text/plain": [
              "<IPython.core.display.Javascript object>"
            ]
          },
          "metadata": {},
          "output_type": "display_data"
        }
      ],
      "source": [
        "%%js\n",
        "let person= {name:\"Fischer\", vorname:\"Fritz\", anschrift:\"Fischgasse 1\"};\n",
        "element.append(person.name, \" \", person.vorname, \" \", person.anschrift);"
      ]
    },
    {
      "cell_type": "markdown",
      "metadata": {
        "editable": "false"
      },
      "source": [
        "## Objekteigenschaften: Methoden\n",
        "\n",
        "Ein wesentliches Element muss allerdings noch dazukommen, damit es ein vollwertiges Javascript Objekt wird: \n",
        "Das Verhalten oder die Funktionalität.\n",
        "Die Daten-Eigenschaften werden in den Objekt-Methoden verwendet.\n",
        "Soll zum Beispiel die Person mit Anschrift als Empfänger eines Anschreibens ausgedruckt werden, dann wird eine Objekt-Methode zu schreiben sein, die die Attribute Zeile für Zeile als Adressfeld ausgibt. \n",
        "\n",
        "Die Methoden sind wie die Daten ebenfalls Eigenschaften eines Objektes und stehen in der literalen Schreibweise folgerichtig innerhalb der geschwungenen Klammern, die das Objekt definieren, mit Beistrich von den anderen Eigenschaften getrennt. \n",
        "Nur, dass eine Methode aus zwei besonderen Teilen besteht: Dem Funktionskopf mit `funktion(parameter ...)` gefolgt vom Funktionskörper, der selbst in geschwungenen Klammern steht.\n"
      ]
    },
    {
      "cell_type": "code",
      "execution_count": 370,
      "metadata": {},
      "outputs": [
        {
          "data": {
            "application/javascript": [
              "const p= {\n",
              "    name:\"Meier\", vorname:\"Horst\", anschrift:\"Wiesengasse 12\",\n",
              "    anrede() {\n",
              "       return`<div>    \n",
              "            Sehr geehrte/r Frau/Herr ${this.vorname} ${this.name} !\n",
              "        </div>`;\n",
              "        }\n",
              "};\n",
              "element.innerHTML=p.anrede();\n"
            ],
            "text/plain": [
              "<IPython.core.display.Javascript object>"
            ]
          },
          "metadata": {},
          "output_type": "display_data"
        }
      ],
      "source": [
        "%%js\n",
        "const p= {\n",
        "    name:\"Meier\", vorname:\"Horst\", anschrift:\"Wiesengasse 12\",\n",
        "    anrede() {\n",
        "       return`<div>    \n",
        "            Sehr geehrte/r Frau/Herr ${this.vorname} ${this.name} !\n",
        "        </div>`;\n",
        "        }\n",
        "};\n",
        "element.innerHTML=p.anrede();"
      ]
    },
    {
      "cell_type": "markdown",
      "metadata": {
        "editable": "false"
      },
      "source": [
        "Die Daten, die zusammen mit den Funktionen ein Objekt ausmachen, führen zum wichtigsten Prinzip bei objektorienterter Programmierung: der Kapselung, auch *Information Hiding* genannt. \n",
        "Am Beispiel: Die Anrede des Personenobjektes kann durch Methodenaufruf auf der HTML-Seite korrekt angezeigt werden - wie das genau geschieht, muss man von Außen nicht wissen, das erledigt die Methode `anrede`. \n",
        "Methoden sind ein westenliches Element der Kapselung - die Methoden eines Objektes bilden zusammen mit den Daten den *Kontrakt* bzw die *Schnittstelle* bzw. das *Application Programming Interface (API)* eines Objektes. \n",
        "Eine Methode kann auf die anderen Eigenschaften des Objektes über die implizite Variable `this` zugreifen: `this` ist für eine Objektmethode einfach das Objekt, zu dem die Methode gehört. "
      ]
    },
    {
      "cell_type": "markdown",
      "metadata": {
        "editable": "false"
      },
      "source": [
        "## Accessor-Methoden\n",
        "\n",
        "Wenn ein Objekt ein Attribute zugewiesen bekommt, z.B. im Konstruktur (wie meistens), dann kann der Wert immer wieder direkt\n",
        "gesetzt werden, so lange das Objekt lebt.\n",
        "Oft ist diese direkte Änderung von außen gar nicht erwünscht, wenn etwa der neue Wert erst überprüft werden sollte und nicht jeder Wert akzeptiert wird. \n",
        "Um das zu ermöglichen, gibt es *Accessor*-Funktionen. Das läßt sich am Besten an einem Beispiel zeigen. \n",
        "Wir nehmen an, dass das Attribut Staat nur 2-stellige, groß geschriebene Länderkürzel akzeptiert.\n"
      ]
    },
    {
      "cell_type": "code",
      "execution_count": 371,
      "metadata": {},
      "outputs": [
        {
          "data": {
            "application/javascript": [
              "let p = {\n",
              "    vorname:\"Fritz\",\n",
              "    name:\"Fischer\", \n",
              "    anschrift:\"Fischgasse 1\",\n",
              "    set staat (s) {\n",
              "        if(s.length==2)\n",
              "            this._staat=s;\n",
              "         else throw new Error(\"Staat muss 2stellig sein\");\n",
              "    },\n",
              "    get staat() {\n",
              "        return this._staat;\n",
              "    }\n",
              "}\n",
              "p.staat=\"AT\";\n",
              "element.append(p.name, \" \", p.staat);\n",
              "p.staat=\"Österreich\";\n"
            ],
            "text/plain": [
              "<IPython.core.display.Javascript object>"
            ]
          },
          "metadata": {},
          "output_type": "display_data"
        }
      ],
      "source": [
        "%%js\n",
        "let p = {\n",
        "    vorname:\"Fritz\",\n",
        "    name:\"Fischer\", \n",
        "    anschrift:\"Fischgasse 1\",\n",
        "    set staat (s) {\n",
        "        if(s.length==2)\n",
        "            this._staat=s;\n",
        "         else throw new Error(\"Staat muss 2stellig sein\");\n",
        "    },\n",
        "    get staat() {\n",
        "        return this._staat;\n",
        "    }\n",
        "}\n",
        "p.staat=\"AT\";\n",
        "element.append(p.name, \" \", p.staat);\n",
        "p.staat=\"Österreich\";"
      ]
    },
    {
      "cell_type": "markdown",
      "metadata": {
        "editable": "false"
      },
      "source": [
        "## Prototypen\n",
        "\n",
        "Ein Objekt in Javascript hat (fast) immer ein zweites Objekt im Hintergrund, nämlich seinen *Prototyp*. \n",
        "Wir können uns den Prototyp eines Objektes als eine Art Eltern-Objekt vorstellen: \n",
        "Das Objekt *kennt* alle Eigenschaften seines Prototyps, kann sie aber u.U. überschreiben, also durch eigene Daten bzw. Funktionen ersetzen. \n",
        "Der Sinn dieser Eltern-Objektes ist, dass nicht jedes Objekt immer wieder die gleichen Eigenschaften für sich definieren muss, sondern eben auch durch Vererbung beziehen kann.\n",
        "\n",
        "Man kann sich zusammenreimen, dass der Prototyp-Begriff später bei der Diskussion von Objektklassen wieder auftauchen wird.\n",
        "In der Tat ist der Prototyp in Javascript gewissermaßen die Urform der Objektklasse.\n",
        "\n",
        "Man beachte im folgenden Beispiel, dass ein Personenobjekt von Außen so verwendet wird, als hätte es alle seine Eigenschaften direkt - von Außen ist nicht erkennbar, ob die Methode `anrede()` des Personenobjektes direkt definiert oder von einem Prototyp geerbt ist. \n",
        "Das soll man auch gar nicht erkennen - die Prototypen betreffen nur die internen Organisation von Objekten,\n",
        "nicht deren Kontrakt zur Umwelt. \n"
      ]
    },
    {
      "cell_type": "code",
      "execution_count": 372,
      "metadata": {},
      "outputs": [
        {
          "data": {
            "application/javascript": [
              "const personPrototype= {\n",
              "    istWeiblich() { \n",
              "        return [\"Anna\", \"Agathe\"].includes(this.vorname);\n",
              "    },\n",
              "    anrede() {\n",
              "        return `<div>    \n",
              "            ${this.istWeiblich() ? \"Sehr geehrte Frau\" : \"Sehr geehrter Herr\"} \n",
              "            ${this.vorname} ${this.name} !\n",
              "            </div>`;\n",
              "    }  \n",
              "};\n",
              "const p1= {name:\"Auer\", vorname:\"Anna\", anschrift:\"Astgasse 1\"};\n",
              "Object.setPrototypeOf(p1, personPrototype);\n",
              "const p2= {name:\"Fischer\", vorname:\"Fritz\", anschrift:\"Fischgasse 1\"};\n",
              "Object.setPrototypeOf(p2, personPrototype);\n",
              "\n",
              "element.innerHTML+= p1.anrede();\n",
              "element.innerHTML+= p2.anrede();\n",
              "//Übung: wie könnte die Funktion anrede() aussehen, wenn es sich bei der Person um eine Firma handelt (kein Vorname definiert)?\n"
            ],
            "text/plain": [
              "<IPython.core.display.Javascript object>"
            ]
          },
          "metadata": {},
          "output_type": "display_data"
        }
      ],
      "source": [
        "%%js\n",
        "const personPrototype= {\n",
        "    istWeiblich() { \n",
        "        return [\"Anna\", \"Agathe\"].includes(this.vorname);\n",
        "    },\n",
        "    anrede() {\n",
        "        return `<div>    \n",
        "            ${this.istWeiblich() ? \"Sehr geehrte Frau\" : \"Sehr geehrter Herr\"} \n",
        "            ${this.vorname} ${this.name} !\n",
        "            </div>`;\n",
        "    }  \n",
        "};\n",
        "const p1= {name:\"Auer\", vorname:\"Anna\", anschrift:\"Astgasse 1\"};\n",
        "Object.setPrototypeOf(p1, personPrototype);\n",
        "const p2= {name:\"Fischer\", vorname:\"Fritz\", anschrift:\"Fischgasse 1\"};\n",
        "Object.setPrototypeOf(p2, personPrototype);\n",
        "\n",
        "element.innerHTML+= p1.anrede();\n",
        "element.innerHTML+= p2.anrede();\n",
        "//Übung: wie könnte die Funktion anrede() aussehen, wenn es sich bei der Person um eine Firma handelt (kein Vorname definiert)?"
      ]
    },
    {
      "cell_type": "markdown",
      "metadata": {
        "editable": "false"
      },
      "source": [
        "## Konstruktor-Funktionen\n",
        "\n",
        "Bis jetzt haben wir gesehen, wie Objekte durch *Literale* erzeugt werden, bei denen alle Daten im Source-Code stehen. \n",
        "Dabei haben wir sowohl Daten-Eigenschaften als auch Methoden des Objektes definiert. \n",
        "Durch das Konzept der Prototypen haben wir gesehen, dass Objekte manche Eigenschaften von seinem Prototyp wie von einem Elternobjekt \"erben\" können. \n",
        "\n",
        "An den bisherigen Beispielen haben wir gesehen, wie man erzeugen und den Prototyp danach explizit zuweisen kann. \n",
        "Das ist allerdings nicht besoners elegant. \n",
        "In Javascript lassen sich Objekte mit Prototypen viel besser durch *Konstrukturen* erreichen. Dazu das folgende Beispiel mit den schon bekannten Person-Objekten."
      ]
    },
    {
      "cell_type": "code",
      "execution_count": 373,
      "metadata": {},
      "outputs": [
        {
          "data": {
            "application/javascript": [
              "function Person(name, vorname, anschrift) { \n",
              "    this.name= name;\n",
              "    this.vorname=vorname;\n",
              "    this.anschrift= anschrift;\n",
              "    Person.prototype.anzahlPersonen++; // die Variable des Prototypen wird verändert\n",
              "};\n",
              "Person.prototype={\n",
              "    anzahlPersonen:0, \n",
              "    istWeiblich() { \n",
              "        return [\"Anna\", \"Agathe\"].includes(this.vorname);\n",
              "    },\n",
              "    anrede() {\n",
              "        return `<div>    \n",
              "            ${this.istWeiblich() ? \"Sehr geehrte Frau\" : \"Sehr geehrter Herr\"} \n",
              "            ${this.vorname} ${this.name} !\n",
              "            </div>`;\n",
              "    }  \n",
              "};\n",
              "let person1=new Person(\"Fischer\", \"Fritz\", \"Fischergasse 1\");\n",
              "let person2=new Person(\"Auer\", \"Anna\", \"Auergasse 1\");\n",
              "element.innerHTML=person1.anrede();\n",
              "element.innerHTML+=person2.anrede();\n",
              "element.append(person1.anzahlPersonen, \"  \", person2.anzahlPersonen);\n"
            ],
            "text/plain": [
              "<IPython.core.display.Javascript object>"
            ]
          },
          "metadata": {},
          "output_type": "display_data"
        }
      ],
      "source": [
        "%%js\n",
        "function Person(name, vorname, anschrift) { \n",
        "    this.name= name;\n",
        "    this.vorname=vorname;\n",
        "    this.anschrift= anschrift;\n",
        "    Person.prototype.anzahlPersonen++; // die Variable des Prototypen wird verändert\n",
        "};\n",
        "Person.prototype={\n",
        "    anzahlPersonen:0, \n",
        "    istWeiblich() { \n",
        "        return [\"Anna\", \"Agathe\"].includes(this.vorname);\n",
        "    },\n",
        "    anrede() {\n",
        "        return `<div>    \n",
        "            ${this.istWeiblich() ? \"Sehr geehrte Frau\" : \"Sehr geehrter Herr\"} \n",
        "            ${this.vorname} ${this.name} !\n",
        "            </div>`;\n",
        "    }  \n",
        "};\n",
        "let person1=new Person(\"Fischer\", \"Fritz\", \"Fischergasse 1\");\n",
        "let person2=new Person(\"Auer\", \"Anna\", \"Auergasse 1\");\n",
        "element.innerHTML=person1.anrede();\n",
        "element.innerHTML+=person2.anrede();\n",
        "element.append(person1.anzahlPersonen, \"  \", person2.anzahlPersonen);"
      ]
    },
    {
      "cell_type": "markdown",
      "metadata": {
        "editable": "false"
      },
      "source": [
        "Man beachte, dass die Konstruktorfunktion `Person()` mit großem Anfangsbuchstaben geschrieben steht. \n",
        "Das ist eine übliche Konvention in Javascript-Programmen für die Konstrukturfunktion. \n",
        "Diese Funktion wird durch den Code `new Person(...)` aufgerufen - dadurch weiß Javascript überhaupt erst, dass eine Konstruktur-Funktion vorliegt, und erzeugt unter der Hand sofort ein neues Objekt, auf welches die Konstruktorfunktion mit `this`zugreift. \n",
        "Außerdem bekommt das durch `new` erzeugte Objekt auch gleich einen Prototyp zugewiesen, und zwar naheliegenderweise als Eigenschaft `Person.prototype`. \n",
        "Auf den Prototyp kann schon im Konstruktur mit `Person.prototype`zugegriffen werden.\n",
        "Dieses erzeugte, mit einem Prototyp ausgestattete und durch den Konstruktur initiierte Objekte wird von `new` zurückgegeben. Nur so ist es möglich, dass der Code `person.anrede()`am Ende des Beispieles funktioniert.\n",
        "\n",
        "Der Protoyp für Person enthält nicht nur die Funktionen `anrede()` und `istWeiblich()`, sondern auch das Feld `anzahlPersonen`, das für jede mit dem Konstruktor erzeugten Person inkrementiert wird. \n",
        "Wenn der Wert der Eigenschaft `anzahlPersonen` verändert wird, ist er natürlich mit einem Schlag für alle erzeugten Person-Objekte verändert. \n",
        "Man beachte, dass `anzahlPersonen` von jeder Person abgefragt werden kann, also von außen nicht von einem direkten Attribut der Person unterschieden werden kann. \n"
      ]
    },
    {
      "cell_type": "markdown",
      "metadata": {
        "editable": "false"
      },
      "source": [
        "## Eigenschaften Hinzufügen und Löschen\n",
        "\n",
        "Wir können unser Objekt `Person` als Library oder Teil einer Library anderen Programmierern zur Verfügung stellen. \n",
        "Das geschieht in Javascript und anderen Programmeirsprachen sehr häufig. \n",
        "Bei der Anwendung einer Library ist es oft nützlich, die Library-Objekte zu erweitern - so könnten andere Programmierer es nützlich finden, für eigene Zwecke noch ein Attribut `nummer` bei jeder Person mitzuspeichern. \n",
        "Javascript erlaubt diese *adaptive Wiederverwendung* ohne weiteres: Zu jedem Objekt (und zu jedem Prototyp) können eigene Attribute und Methoden jederzeit dazugegeben werden. \n",
        "\n",
        "Die Erweiterbarkeit und adaptive Wiederverwendung läßt sich an den Standardobjekten der Javascript-Sprache gut zeigen. Wir wollen das Standardobjekt`Number` heranziehen. Es ist vorstellbar (wenn auch nicht wahrscheinlich), dass wir für eine Zahl immer die entsprechende Anzahl von Semmeln ausgeben wollen:"
      ]
    },
    {
      "cell_type": "code",
      "execution_count": 374,
      "metadata": {},
      "outputs": [
        {
          "data": {
            "application/javascript": [
              "Number.prototype.alsSemmeln= function() {\n",
              "    return this.valueOf() +\" \" + \"Semmeln\";\n",
              "}\n",
              "element.append((17).alsSemmeln());\n"
            ],
            "text/plain": [
              "<IPython.core.display.Javascript object>"
            ]
          },
          "metadata": {},
          "output_type": "display_data"
        }
      ],
      "source": [
        "%%js\n",
        "Number.prototype.alsSemmeln= function() {\n",
        "    return this.valueOf() +\" \" + \"Semmeln\";\n",
        "}\n",
        "element.append((17).alsSemmeln());"
      ]
    },
    {
      "cell_type": "markdown",
      "metadata": {
        "editable": "false"
      },
      "source": [
        "Wie das Beispiel zeigt, genügt eine zusätzliche Methode im Prototyp-Objekt von `Number`, um die Funktionaliät für alle Zahlen (die ja alle den` Number` Prototyp haben) zu ermöglichen. \n",
        "Die Programmiererin kann aber auch Attribute von Objekten explizit löschen:"
      ]
    },
    {
      "cell_type": "code",
      "execution_count": 375,
      "metadata": {},
      "outputs": [
        {
          "data": {
            "application/javascript": [
              "function Person(id, name, vorname, anschrift) {    \n",
              "    this.name=name;\n",
              "    this.vorname=vorname; \n",
              "    this.anschrift=anschrift;    \n",
              "}\n",
              "\n",
              "let p= new Person(4711,\"Fischer GmbH\", null, \"Fischgasse 11\");\n",
              "element.innerHTML=JSON.stringify(p)+\"<br/>\";\n",
              "delete p.vorname;\n",
              "element.innerHTML+=(JSON.stringify(p));\n"
            ],
            "text/plain": [
              "<IPython.core.display.Javascript object>"
            ]
          },
          "metadata": {},
          "output_type": "display_data"
        }
      ],
      "source": [
        "%%js\n",
        "function Person(id, name, vorname, anschrift) {    \n",
        "    this.name=name;\n",
        "    this.vorname=vorname; \n",
        "    this.anschrift=anschrift;    \n",
        "}\n",
        "\n",
        "let p= new Person(4711,\"Fischer GmbH\", null, \"Fischgasse 11\");\n",
        "element.innerHTML=JSON.stringify(p)+\"<br/>\";\n",
        "delete p.vorname;\n",
        "element.innerHTML+=(JSON.stringify(p));"
      ]
    },
    {
      "cell_type": "markdown",
      "metadata": {
        "editable": "false"
      },
      "source": [
        "Im oben stehenden Code wurde das Property `vorname` der Person gelöscht, weil diese Person offensichtlich eine Firma ist. \n",
        "Der Effekt der Löschung ist, dass das Attribut nicht mehr definiert ist - die Person kennt das Attribut nicht. \n",
        "Das Vorhandensein das Attributes `vorname` könnte von Programmen genutzt werden, um zu erkennen, ob eine Person oder eine Firma vorliegt. \n",
        "Auch diverse Library-Funktionen, die alle Attribute ausgeben, wie `JSON.stringify()`, werden das Attribut nicht mehr auffinden."
      ]
    },
    {
      "cell_type": "markdown",
      "metadata": {
        "editable": "false"
      },
      "source": [
        "## Meta-Eigenschaften \n",
        "\n",
        "Um unerwünschte oder  oder exzessive Adaptionen von Objekten zu verhindern, kann die Verwendungsmöglichkeit von bestimmten Objekteigenschaften auch eingschränkt werden.  \n",
        "Diese Einschränkung der Verwendbarkeit von Eigenschaften eines Objektes erfolgt durch setzen von sogenannten *Meta-Eigenschaften*:\n",
        "\n",
        "* Ein Attribut kann durch die Zuweisung der Metaeigenschaft `writeable=false` nur mehr gelesen, nicht mehr überschrieben werden\n",
        "* Eine Eigenschaft kann die Meta-Eigenschaft `enumerable=false` erhalten: Dadurch kommt diese Eigenschaft in Standardfunktionen, die alle Eigenschaften eines Objektes durchgehen, nicht vor, sie wird also bis zu einem gewissen Grad versteckt.\n",
        "* Eigenschaften können mit der Meta-Eigenschaft `modifyable=false` gekennzeichnet werden - damit kann die Eigenschaft nicht aus dem Objekt gelöscht und auch die Meta-Eigenschaften dieser Eigenschft können nicht verändert werden.\n",
        "\n",
        "Die Meta-Eigenschaften, also `writeable`, `enumerable `und `modifyable`, können im Konstruktur des Objektes durch den Aufruf der Methode `Object.defineProperty(...)` erzeugt werden, wie im folgenden Code gezeigt ist:"
      ]
    },
    {
      "cell_type": "code",
      "execution_count": 376,
      "metadata": {},
      "outputs": [
        {
          "data": {
            "application/javascript": [
              "function Person(id, name, vorname, anschrift) {    \n",
              "    this.name=name;\n",
              "    this.vorname=vorname; \n",
              "    this.anschrift=anschrift;\n",
              "    Object.defineProperty(this,\"id\",{value:id, enumerable:true, writeable:false});\n",
              "}\n",
              "\n",
              "let p= new Person(4711,\"Fischer GmbH\", null, \"Fischgasse 11\");\n",
              "p.id=0;\n"
            ],
            "text/plain": [
              "<IPython.core.display.Javascript object>"
            ]
          },
          "metadata": {},
          "output_type": "display_data"
        }
      ],
      "source": [
        "%%js\n",
        "function Person(id, name, vorname, anschrift) {    \n",
        "    this.name=name;\n",
        "    this.vorname=vorname; \n",
        "    this.anschrift=anschrift;\n",
        "    Object.defineProperty(this,\"id\",{value:id, enumerable:true, writeable:false});\n",
        "}\n",
        "\n",
        "let p= new Person(4711,\"Fischer GmbH\", null, \"Fischgasse 11\");\n",
        "p.id=0;"
      ]
    },
    {
      "cell_type": "markdown",
      "metadata": {
        "editable": "false"
      },
      "source": [
        "## Objekteigenschaften abfragen\n",
        "\n",
        "Die Eigenschaften eines Objektes können mit der Punkt-Notation abgefragt werden, wie bisher schon in einigen Beispielen demonstriert.\n",
        "Alternativ ist auch die assoziative Schreibweise erlaubt: der Ausdruck `obj[\"property\"]` liefert den Wert der Eigenschaft mit dem Namen `property` und ist äquivalent zu `object.property`. \n",
        "Durch die assoziative Schreibweise kann man viele zusätzliche Sprachfeatrues von Javascript nutzen: möchte man durch alle Eigenschaften eines Objekte durch-iterieren, ohne die Nanmen Objekteigenschaft zu kennen oder schreiben zu müssen, so bietet sich die `for/in`-Schleife an:"
      ]
    },
    {
      "cell_type": "code",
      "execution_count": 377,
      "metadata": {},
      "outputs": [
        {
          "data": {
            "application/javascript": [
              "function Person(id, name, vorname, anschrift) {    \n",
              "    this.name=name;\n",
              "    this.vorname=vorname; \n",
              "    this.anschrift=anschrift;\n",
              "};\n",
              "const p= new Person(4711,\"Fischer\", \"Fritz\", \"Fischgasse 1\");\n",
              "for(const a in p)\n",
              "   element.append(`${a}=${p[a]}  `);  \n",
              "// Übung: wie sieht der Ouptut aus, wenn Person die Funktion anrede() besitzt?\n"
            ],
            "text/plain": [
              "<IPython.core.display.Javascript object>"
            ]
          },
          "metadata": {},
          "output_type": "display_data"
        }
      ],
      "source": [
        "%%js\n",
        "function Person(id, name, vorname, anschrift) {    \n",
        "    this.name=name;\n",
        "    this.vorname=vorname; \n",
        "    this.anschrift=anschrift;\n",
        "};\n",
        "const p= new Person(4711,\"Fischer\", \"Fritz\", \"Fischgasse 1\");\n",
        "for(const a in p)\n",
        "   element.append(`${a}=${p[a]}  `);  \n",
        "// Übung: wie sieht der Ouptut aus, wenn Person die Funktion anrede() besitzt?"
      ]
    },
    {
      "cell_type": "markdown",
      "metadata": {
        "editable": "false"
      },
      "source": [
        "Eine andere nützliche Funktionalität ist die Methode `Object.hasOwnProperty(prop)`, mit der getestet wird, ob ein Objekt eine bestimmte Eigenschaft überhaupt definiert hat. "
      ]
    },
    {
      "cell_type": "code",
      "execution_count": 378,
      "metadata": {},
      "outputs": [
        {
          "data": {
            "application/javascript": [
              "const p= {id:4711,name:\"Fischer\", anschrift: \"Fischgasse 1\"};\n",
              "if(p.hasOwnProperty(\"id\")) \n",
              "   element.append(\"p hat id\");\n",
              "if(p.hasOwnProperty(\"vorname\")) \n",
              "   element.append(\", p hat vorname\");\n",
              "else \n",
              "    element.append(\", p hat keinen vornamen\");\n",
              "// Übung: Was ergibt p.vorname ?\n"
            ],
            "text/plain": [
              "<IPython.core.display.Javascript object>"
            ]
          },
          "metadata": {},
          "output_type": "display_data"
        }
      ],
      "source": [
        "%%js\n",
        "const p= {id:4711,name:\"Fischer\", anschrift: \"Fischgasse 1\"};\n",
        "if(p.hasOwnProperty(\"id\")) \n",
        "   element.append(\"p hat id\");\n",
        "if(p.hasOwnProperty(\"vorname\")) \n",
        "   element.append(\", p hat vorname\");\n",
        "else \n",
        "    element.append(\", p hat keinen vornamen\");\n",
        "// Übung: Was ergibt p.vorname ?"
      ]
    },
    {
      "cell_type": "markdown",
      "metadata": {
        "editable": "false"
      },
      "source": [
        "## Spread-Operator\n",
        "\n",
        "Der Spread-Operator erlaubt es, die Eigenschaften eines Objektes auf einen Schlag in ein neues Objekt zu kopieren. \n",
        "Das kann am Besten durch ein Beispiel demonstriert werden "
      ]
    },
    {
      "cell_type": "code",
      "execution_count": 379,
      "metadata": {},
      "outputs": [
        {
          "data": {
            "application/javascript": [
              "const p= {id:4711,name:\"Fischer\", anschrift: \"Fischgasse 1\"};\n",
              "const q= {...p, staat:\"AT\"};\n",
              "element.append(JSON.stringify(q));\n"
            ],
            "text/plain": [
              "<IPython.core.display.Javascript object>"
            ]
          },
          "metadata": {},
          "output_type": "display_data"
        }
      ],
      "source": [
        "%%js\n",
        "const p= {id:4711,name:\"Fischer\", anschrift: \"Fischgasse 1\"};\n",
        "const q= {...p, staat:\"AT\"};\n",
        "element.append(JSON.stringify(q));"
      ]
    },
    {
      "cell_type": "markdown",
      "metadata": {
        "editable": "false"
      },
      "source": [
        "Wenn der Spread-Operator im Zusammenhang mit Arrays verwendet wird, erfolgt die Kopie aller Elemente in ein neues Array:"
      ]
    },
    {
      "cell_type": "code",
      "execution_count": 380,
      "metadata": {},
      "outputs": [
        {
          "data": {
            "application/javascript": [
              "const a=[1,3,5,7,11,13];\n",
              "element.append([...a, 17,19]);\n",
              "// Übung: was ergibt element.append(a, 17,19)?\n"
            ],
            "text/plain": [
              "<IPython.core.display.Javascript object>"
            ]
          },
          "metadata": {},
          "output_type": "display_data"
        }
      ],
      "source": [
        "%%js\n",
        "const a=[1,3,5,7,11,13];\n",
        "element.append([...a, 17,19]);\n",
        "// Übung: was ergibt element.append(a, 17,19)?"
      ]
    },
    {
      "cell_type": "markdown",
      "metadata": {
        "editable": "false"
      },
      "source": [
        "# Iterables\n",
        "\n",
        "Es gibt Javascript-Datenstrukturen, die mehrere oder viele Objekte als Elemente beinhalten und es erlauben, alle enthaltenen Elemente in einer Schleife durchzugehen. \n",
        "Wir sprechen von den iterierbaren Strukturen `String`, `Array`, `Map` und `Set`.\n",
        "Sie werden auch *Iterables* genannt.\n",
        "\n",
        "Die Iterables erlauben es, mit einer `for/of`-Loop alle Elemente hintereinander aufzusuchen.\n",
        "Iterables können außerdem auf der rechten Seite einer *Destrukturierung* stehen, und sie können Iterables mittels des *Spread-Operators* in ihre einzelnen Objekte \"zerlegt\" werden. "
      ]
    },
    {
      "cell_type": "code",
      "execution_count": 381,
      "metadata": {},
      "outputs": [
        {
          "data": {
            "application/javascript": [
              "// String als Iterable unterstützt for..of\n",
              "const message=\"Hello World\";\n",
              "for(const s of message)\n",
              "    element.append(s);\n",
              "\n",
              "// String als Iterable unterstützt den Spread-Operator\n",
              "const values=[1,3,5,7,9,11,13];\n",
              "const primaries= [...values, 17,19,23];\n",
              "element.append(\", primaries=\",primaries);\n",
              "\n",
              "// String als Iterable unterstützt Destrukturierung\n",
              "const [first,second] = values;\n",
              "element.append(\", first=\",first, \", second=\", second);\n",
              "\n",
              "// Übung: Wie würde das letzte Beispiel ohne Destrukturierung aussehen?\n"
            ],
            "text/plain": [
              "<IPython.core.display.Javascript object>"
            ]
          },
          "metadata": {},
          "output_type": "display_data"
        }
      ],
      "source": [
        "%%js\n",
        "// String als Iterable unterstützt for..of\n",
        "const message=\"Hello World\";\n",
        "for(const s of message)\n",
        "    element.append(s);\n",
        "\n",
        "// String als Iterable unterstützt den Spread-Operator\n",
        "const values=[1,3,5,7,9,11,13];\n",
        "const primaries= [...values, 17,19,23];\n",
        "element.append(\", primaries=\",primaries);\n",
        "\n",
        "// String als Iterable unterstützt Destrukturierung\n",
        "const [first,second] = values;\n",
        "element.append(\", first=\",first, \", second=\", second);\n",
        "\n",
        "// Übung: Wie würde das letzte Beispiel ohne Destrukturierung aussehen?"
      ]
    },
    {
      "cell_type": "markdown",
      "metadata": {
        "editable": "false"
      },
      "source": [
        "# Collections\n",
        "\n",
        "@to be done"
      ]
    },
    {
      "cell_type": "markdown",
      "metadata": {
        "editable": "false"
      },
      "source": [
        "# --------------------- Zugriff auf Objekteigenschaften\n",
        "```\n",
        "\n",
        "`Symbol` \n",
        "\n",
        "Literal: Shorthand Properties, computed Property names in square brackets, Symbols als Property Names\n",
        "Symbols: für technische, nicht überall brauchbare Attribute und für Add-On Attribute unbekannter Objekte\n",
        "der Spread-Operator\n",
        "```"
      ]
    },
    {
      "cell_type": "code",
      "execution_count": 382,
      "metadata": {},
      "outputs": [
        {
          "data": {
            "application/javascript": [
              "String.prototype.wrapAsDiv= function() {\n",
              "    return \"<div> \" + this +\"</div>\";\n",
              "}\n",
              "element.append(\"hihi\".wrapAsDiv);\n"
            ],
            "text/plain": [
              "<IPython.core.display.Javascript object>"
            ]
          },
          "metadata": {},
          "output_type": "display_data"
        }
      ],
      "source": [
        "%%js\n",
        "String.prototype.wrapAsDiv= function() {\n",
        "    return \"<div> \" + this +\"</div>\";\n",
        "}\n",
        "element.append(\"hihi\".wrapAsDiv);\n"
      ]
    },
    {
      "cell_type": "code",
      "execution_count": 383,
      "metadata": {},
      "outputs": [
        {
          "data": {
            "application/javascript": [
              "let x={name:\"Müller\", vorname:\"Hans\"};\n",
              "let hval= Symbol(\"mem hash\");\n",
              "x[hval]=314159;\n",
              "for (let s of Object.getOwnPropertySymbols(x))\n",
              "    element.append(String(s)); // !!!!!\n",
              "element.append(JSON.stringify(x));\n"
            ],
            "text/plain": [
              "<IPython.core.display.Javascript object>"
            ]
          },
          "metadata": {},
          "output_type": "display_data"
        }
      ],
      "source": [
        "%%js\n",
        "let x={name:\"Müller\", vorname:\"Hans\"};\n",
        "let hval= Symbol(\"mem hash\");\n",
        "x[hval]=314159;\n",
        "for (let s of Object.getOwnPropertySymbols(x))\n",
        "    element.append(String(s)); // !!!!!\n",
        "element.append(JSON.stringify(x));\n"
      ]
    },
    {
      "cell_type": "code",
      "execution_count": 384,
      "metadata": {},
      "outputs": [
        {
          "data": {
            "application/javascript": [
              "let x= {\n",
              "    _name:\"Müller\",    \n",
              "    get name() {return this._name.toUpperCase();}\n",
              "};\n",
              "element.append(x[\"name\"]);\n"
            ],
            "text/plain": [
              "<IPython.core.display.Javascript object>"
            ]
          },
          "metadata": {},
          "output_type": "display_data"
        }
      ],
      "source": [
        "%%js\n",
        "let x= {\n",
        "    _name:\"Müller\",    \n",
        "    get name() {return this._name.toUpperCase();}\n",
        "};\n",
        "element.append(x[\"name\"]);"
      ]
    },
    {
      "cell_type": "code",
      "execution_count": 385,
      "metadata": {},
      "outputs": [
        {
          "data": {
            "application/javascript": [
              "let x= {\n",
              "    name:\"Müller\",\n",
              "    vorname: \"Gerd\",\n",
              "    toString() {return `${this.name}, ${this.vorname}`;}\n",
              "};\n",
              "element.append(x.toString());\n"
            ],
            "text/plain": [
              "<IPython.core.display.Javascript object>"
            ]
          },
          "metadata": {},
          "output_type": "display_data"
        }
      ],
      "source": [
        "%%js\n",
        "let x= {\n",
        "    name:\"Müller\",\n",
        "    vorname: \"Gerd\",\n",
        "    toString() {return `${this.name}, ${this.vorname}`;}\n",
        "};\n",
        "element.append(x.toString());"
      ]
    },
    {
      "cell_type": "code",
      "execution_count": null,
      "metadata": {},
      "outputs": [],
      "source": []
    },
    {
      "cell_type": "code",
      "execution_count": null,
      "metadata": {},
      "outputs": [],
      "source": []
    },
    {
      "cell_type": "code",
      "execution_count": null,
      "metadata": {},
      "outputs": [],
      "source": []
    },
    {
      "cell_type": "code",
      "execution_count": null,
      "metadata": {},
      "outputs": [],
      "source": []
    }
  ],
  "metadata": {
    "kernelspec": {
      "display_name": "Python 3 (ipykernel)",
      "language": "python",
      "name": "python3"
    },
    "language_info": {
      "codemirror_mode": {
        "name": "ipython",
        "version": 3
      },
      "file_extension": ".py",
      "mimetype": "text/x-python",
      "name": "python",
      "nbconvert_exporter": "python",
      "pygments_lexer": "ipython3",
      "version": "3.11.6"
    }
  },
  "nbformat": 4,
  "nbformat_minor": 4
}
